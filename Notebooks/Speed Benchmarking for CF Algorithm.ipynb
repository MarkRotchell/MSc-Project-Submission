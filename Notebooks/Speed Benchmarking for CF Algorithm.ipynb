{
  "nbformat": 4,
  "nbformat_minor": 0,
  "metadata": {
    "colab": {
      "name": "Project Speed Benchmarking CF.ipynb",
      "provenance": [],
      "collapsed_sections": []
    },
    "kernelspec": {
      "name": "python3",
      "display_name": "Python 3"
    },
    "language_info": {
      "name": "python"
    },
    "accelerator": "GPU"
  },
  "cells": [
    {
      "cell_type": "code",
      "metadata": {
        "colab": {
          "base_uri": "https://localhost:8080/"
        },
        "id": "GAnCzURdCdkE",
        "outputId": "eb664c07-af49-4435-90e9-1fc370a5c54e"
      },
      "source": [
        "!pip install '/content/pyGPB-0.0.1.tar.gz'"
      ],
      "execution_count": null,
      "outputs": [
        {
          "output_type": "stream",
          "text": [
            "Processing ./pyGPB-0.0.1.tar.gz\n",
            "Requirement already satisfied: numba in /usr/local/lib/python3.7/dist-packages (from pyGPB==0.0.1) (0.51.2)\n",
            "Requirement already satisfied: numpy in /usr/local/lib/python3.7/dist-packages (from pyGPB==0.0.1) (1.19.5)\n",
            "Requirement already satisfied: scipy in /usr/local/lib/python3.7/dist-packages (from pyGPB==0.0.1) (1.4.1)\n",
            "Requirement already satisfied: setuptools in /usr/local/lib/python3.7/dist-packages (from numba->pyGPB==0.0.1) (57.2.0)\n",
            "Requirement already satisfied: llvmlite<0.35,>=0.34.0.dev0 in /usr/local/lib/python3.7/dist-packages (from numba->pyGPB==0.0.1) (0.34.0)\n",
            "Building wheels for collected packages: pyGPB\n",
            "  Building wheel for pyGPB (setup.py) ... \u001b[?25l\u001b[?25hdone\n",
            "  Created wheel for pyGPB: filename=pyGPB-0.0.1-py3-none-any.whl size=11717 sha256=a6093df8089969afdf70ef9c53e8ed79cdd3511ac1b36a99acc3159e241d1142\n",
            "  Stored in directory: /root/.cache/pip/wheels/18/9e/73/f0be66f2d221d99a8ecad80a5f64821626f2a6c13e8f039eab\n",
            "Successfully built pyGPB\n",
            "Installing collected packages: pyGPB\n",
            "Successfully installed pyGPB-0.0.1\n"
          ],
          "name": "stdout"
        }
      ]
    },
    {
      "cell_type": "code",
      "metadata": {
        "id": "yXHKIhcrzdyg",
        "colab": {
          "base_uri": "https://localhost:8080/"
        },
        "outputId": "42d9ef2c-c5ad-4d29-fbd9-e959c3ab1023"
      },
      "source": [
        "!nvidia-smi -L"
      ],
      "execution_count": null,
      "outputs": [
        {
          "output_type": "stream",
          "text": [
            "GPU 0: Tesla P100-PCIE-16GB (UUID: GPU-397c7cf2-3009-c3ec-91dc-7b09d8405c29)\n"
          ],
          "name": "stdout"
        }
      ]
    },
    {
      "cell_type": "code",
      "metadata": {
        "id": "_TkizZHvxdgd",
        "colab": {
          "base_uri": "https://localhost:8080/"
        },
        "outputId": "5a320615-76b1-42f6-f94e-462f24a5c29b"
      },
      "source": [
        "cpuinfomeminfo"
      ],
      "execution_count": null,
      "outputs": [
        {
          "output_type": "stream",
          "text": [
            "MemTotal:       13302928 kB\n",
            "MemFree:        10404004 kB\n",
            "MemAvailable:   12492288 kB\n",
            "Buffers:          150724 kB\n",
            "Cached:          2065384 kB\n",
            "SwapCached:            0 kB\n",
            "Active:          1070144 kB\n",
            "Inactive:        1586520 kB\n",
            "Active(anon):     398960 kB\n",
            "Inactive(anon):      456 kB\n",
            "Active(file):     671184 kB\n",
            "Inactive(file):  1586064 kB\n",
            "Unevictable:           0 kB\n",
            "Mlocked:               0 kB\n",
            "SwapTotal:             0 kB\n",
            "SwapFree:              0 kB\n",
            "Dirty:               416 kB\n",
            "Writeback:             0 kB\n",
            "AnonPages:        440468 kB\n",
            "Mapped:           269544 kB\n",
            "Shmem:              1144 kB\n",
            "KReclaimable:     145020 kB\n",
            "Slab:             190780 kB\n",
            "SReclaimable:     145020 kB\n",
            "SUnreclaim:        45760 kB\n",
            "KernelStack:        5648 kB\n",
            "PageTables:         6340 kB\n",
            "NFS_Unstable:          0 kB\n",
            "Bounce:                0 kB\n",
            "WritebackTmp:          0 kB\n",
            "CommitLimit:     6651464 kB\n",
            "Committed_AS:    3580376 kB\n",
            "VmallocTotal:   34359738367 kB\n",
            "VmallocUsed:        8152 kB\n",
            "VmallocChunk:          0 kB\n",
            "Percpu:             1400 kB\n",
            "AnonHugePages:      2048 kB\n",
            "ShmemHugePages:        0 kB\n",
            "ShmemPmdMapped:        0 kB\n",
            "FileHugePages:         0 kB\n",
            "FilePmdMapped:         0 kB\n",
            "CmaTotal:              0 kB\n",
            "CmaFree:               0 kB\n",
            "HugePages_Total:       0\n",
            "HugePages_Free:        0\n",
            "HugePages_Rsvd:        0\n",
            "HugePages_Surp:        0\n",
            "Hugepagesize:       2048 kB\n",
            "Hugetlb:               0 kB\n",
            "DirectMap4k:      107328 kB\n",
            "DirectMap2M:     6180864 kB\n",
            "DirectMap1G:     9437184 kB\n"
          ],
          "name": "stdout"
        }
      ]
    },
    {
      "cell_type": "code",
      "metadata": {
        "id": "tLH_lTBCEZaW"
      },
      "source": [
        "import numpy as np\n",
        "import pickle\n",
        "import timeit\n",
        "import numba\n",
        "import math\n",
        "#from pyGPB._cpu_methods import _GPB_CF"
      ],
      "execution_count": null,
      "outputs": []
    },
    {
      "cell_type": "code",
      "metadata": {
        "colab": {
          "base_uri": "https://localhost:8080/"
        },
        "id": "mhdH1bWCIaqO",
        "outputId": "0ab17b88-0c1a-477f-dbaf-6bb050973566"
      },
      "source": [
        "# Test space definition\n",
        "NUMBER_OF_TEST_CASES_PER_SCENARIO = 16\n",
        "M_space = np.logspace(1,4,num=25, dtype=np.int32)\n",
        "N_space = np.logspace(3,7,num=25, dtype=np.int32)\n",
        "weight_distribution_space = ['uniform', 'poisson', 'geometric']\n",
        "prob_distribution_space = ['uniform', 'near_0', 'near_1']\n",
        "N_space, M_space, weight_distribution_space, prob_distribution_space"
      ],
      "execution_count": null,
      "outputs": [
        {
          "output_type": "execute_result",
          "data": {
            "text/plain": [
              "(array([    1000,     1467,     2154,     3162,     4641,     6812,\n",
              "           10000,    14677,    21544,    31622,    46415,    68129,\n",
              "          100000,   146779,   215443,   316227,   464158,   681292,\n",
              "         1000000,  1467799,  2154434,  3162277,  4641588,  6812920,\n",
              "        10000000], dtype=int32),\n",
              " array([   10,    13,    17,    23,    31,    42,    56,    74,   100,\n",
              "          133,   177,   237,   316,   421,   562,   749,  1000,  1333,\n",
              "         1778,  2371,  3162,  4216,  5623,  7498, 10000], dtype=int32),\n",
              " ['uniform', 'poisson', 'geometric'],\n",
              " ['uniform', 'near_0', 'near_1'])"
            ]
          },
          "metadata": {},
          "execution_count": 16
        }
      ]
    },
    {
      "cell_type": "code",
      "metadata": {
        "id": "KxR7lidMDgSU"
      },
      "source": [
        "# Load test data\n",
        "test_case_weights = pickle.load( open( '/content/drive/MyDrive/MSc Project/test_cases_weights.p', \"rb\" ) )\n",
        "test_case_probs = pickle.load( open( '/content/drive/MyDrive/MSc Project/test_cases_probabilities.p', \"rb\" ) )"
      ],
      "execution_count": null,
      "outputs": []
    },
    {
      "cell_type": "code",
      "metadata": {
        "id": "7_maJ-YVsxzI",
        "colab": {
          "base_uri": "https://localhost:8080/"
        },
        "outputId": "9d90e984-8107-4636-b14a-ceba7f9e8c9f"
      },
      "source": [
        "!lscpu"
      ],
      "execution_count": null,
      "outputs": [
        {
          "output_type": "stream",
          "text": [
            "Architecture:        x86_64\n",
            "CPU op-mode(s):      32-bit, 64-bit\n",
            "Byte Order:          Little Endian\n",
            "CPU(s):              2\n",
            "On-line CPU(s) list: 0,1\n",
            "Thread(s) per core:  2\n",
            "Core(s) per socket:  1\n",
            "Socket(s):           1\n",
            "NUMA node(s):        1\n",
            "Vendor ID:           GenuineIntel\n",
            "CPU family:          6\n",
            "Model:               79\n",
            "Model name:          Intel(R) Xeon(R) CPU @ 2.20GHz\n",
            "Stepping:            0\n",
            "CPU MHz:             2200.140\n",
            "BogoMIPS:            4400.28\n",
            "Hypervisor vendor:   KVM\n",
            "Virtualization type: full\n",
            "L1d cache:           32K\n",
            "L1i cache:           32K\n",
            "L2 cache:            256K\n",
            "L3 cache:            56320K\n",
            "NUMA node0 CPU(s):   0,1\n",
            "Flags:               fpu vme de pse tsc msr pae mce cx8 apic sep mtrr pge mca cmov pat pse36 clflush mmx fxsr sse sse2 ss ht syscall nx pdpe1gb rdtscp lm constant_tsc rep_good nopl xtopology nonstop_tsc cpuid tsc_known_freq pni pclmulqdq ssse3 fma cx16 pcid sse4_1 sse4_2 x2apic movbe popcnt aes xsave avx f16c rdrand hypervisor lahf_lm abm 3dnowprefetch invpcid_single ssbd ibrs ibpb stibp fsgsbase tsc_adjust bmi1 hle avx2 smep bmi2 erms invpcid rtm rdseed adx smap xsaveopt arat md_clear arch_capabilities\n"
          ],
          "name": "stdout"
        }
      ]
    },
    {
      "cell_type": "code",
      "metadata": {
        "id": "wodF8zsEwMiI",
        "colab": {
          "base_uri": "https://localhost:8080/"
        },
        "outputId": "ee9e05a2-ef78-476b-b1f1-384f2de0b4b2"
      },
      "source": [
        "!free -h --si | awk  '/Mem:/{print $2}'"
      ],
      "execution_count": null,
      "outputs": [
        {
          "output_type": "stream",
          "text": [
            "13G\n"
          ],
          "name": "stdout"
        }
      ]
    },
    {
      "cell_type": "code",
      "metadata": {
        "colab": {
          "base_uri": "https://localhost:8080/"
        },
        "id": "-bhBdWBp2LKV",
        "outputId": "6d875a74-199e-40a1-fc2e-993a0bc00ee6"
      },
      "source": [
        "!sudo lshw -short -C memory"
      ],
      "execution_count": null,
      "outputs": [
        {
          "output_type": "stream",
          "text": [
            "sudo: lshw: command not found\n"
          ],
          "name": "stdout"
        }
      ]
    },
    {
      "cell_type": "code",
      "metadata": {
        "colab": {
          "base_uri": "https://localhost:8080/"
        },
        "id": "M90tEhTwaHYT",
        "outputId": "e0d014c5-2981-4ee3-ff26-20c032396998"
      },
      "source": [
        "weight_distribution = 'uniform'\n",
        "prob_distribution = 'uniform'\n",
        "for N in [1000,10000,100000,1000000,10000000]:\n",
        "    for M in M_space:\n",
        "        if N > M:\n",
        "            times = dict()\n",
        "            for func in ['_GPB_CF']:\n",
        "                initial_time_estimate = timeit.timeit(f\"{func}(test_case_probs[('{prob_distribution}', {M})][0], test_case_weights[('{weight_distribution}', {N}, {M})][0])\", globals=globals(), number=1)\n",
        "                if initial_time_estimate > 1.0:\n",
        "                    best_time = initial_time_estimate\n",
        "                else:\n",
        "                    approx_runs_in_1_second = 1 / initial_time_estimate\n",
        "                    if approx_runs_in_1_second < NUMBER_OF_TEST_CASES_PER_SCENARIO**2:\n",
        "                        cases_to_use = int(math.sqrt(approx_runs_in_1_second))\n",
        "                    else:\n",
        "                        cases_to_use = NUMBER_OF_TEST_CASES_PER_SCENARIO\n",
        "                    repeats = max(int(approx_runs_in_1_second // cases_to_use),1)\n",
        "                    statement = f\"\"\"for probs, weights in zip(probs_cases, weights_cases): {func}(probs, weights)\n",
        "                    \"\"\"\n",
        "                    setup = f\"\"\"probs_cases = test_case_probs[('{prob_distribution}', {M})][:{cases_to_use}]\\nweights_cases = test_case_weights[('{weight_distribution}', {N}, {M})][:{cases_to_use}]\n",
        "                    \"\"\"\n",
        "                    timer = timeit.Timer(statement, setup=setup, globals=globals())\n",
        "                    results = timer.repeat(repeat=repeats, number=1)\n",
        "                    best_time = min(results)/cases_to_use\n",
        "                times[func] = best_time\n",
        "            print(N, M, times['_GPB_CF'])"
      ],
      "execution_count": null,
      "outputs": [
        {
          "output_type": "stream",
          "text": [
            "1000 10 0.0005061479999994845\n",
            "1000 13 0.0005138253750001098\n",
            "1000 17 0.0006517311250000546\n",
            "1000 23 0.0008725650625009962\n",
            "1000 31 0.0011581805625002772\n",
            "1000 42 0.0015527618750006411\n",
            "1000 56 0.002043460375000805\n",
            "1000 74 0.0026517453750010134\n",
            "1000 100 0.003515719937499995\n",
            "1000 133 0.004575833833333339\n",
            "1000 177 0.005873246307693045\n",
            "1000 237 0.007604334999999196\n",
            "1000 316 0.009777691777780243\n",
            "1000 421 0.012783365249998013\n",
            "1000 562 0.016613982714285873\n",
            "1000 749 0.020760638666663073\n",
            "10000 10 0.004232360857143037\n",
            "10000 13 0.005347650583334011\n",
            "10000 17 0.006754213700000377\n",
            "10000 23 0.008883303888890422\n",
            "10000 31 0.011929329111113576\n",
            "10000 42 0.015690111714288184\n",
            "10000 56 0.02078694866666808\n",
            "10000 74 0.027491530400004648\n",
            "10000 100 0.03628167940000253\n",
            "10000 133 0.04811992824999578\n",
            "10000 177 0.0627786600000017\n",
            "10000 237 0.08374464533333519\n",
            "10000 316 0.1106331105000038\n",
            "10000 421 0.14844851750000032\n",
            "10000 562 0.19864547900000673\n",
            "10000 749 0.261719869999979\n",
            "10000 1000 0.34281212000001915\n",
            "10000 1333 0.4531510390000051\n",
            "10000 1778 0.5990754580000157\n",
            "10000 2371 0.8632141089999834\n",
            "10000 3162 1.1500819309999883\n",
            "10000 4216 1.443745349000011\n",
            "10000 5623 1.7998419930000011\n",
            "10000 7498 2.2141261280000037\n",
            "100000 10 0.04910544375000114\n",
            "100000 13 0.05794404533333856\n",
            "100000 17 0.07225421666667368\n",
            "100000 23 0.0975679600000016\n",
            "100000 31 0.12272737250000887\n",
            "100000 42 0.16689192050000656\n",
            "100000 56 0.20697788649999893\n",
            "100000 74 0.27459279499998956\n",
            "100000 100 0.3712520159999997\n",
            "100000 133 0.48863929000000894\n",
            "100000 177 0.6508792310000047\n",
            "100000 237 0.8678954799999872\n",
            "100000 316 1.1297996039999987\n",
            "100000 421 1.5009107490000133\n",
            "100000 562 2.0002137299999845\n",
            "100000 749 2.688494343000002\n",
            "100000 1000 3.5725309839999966\n",
            "100000 1333 4.776959660999978\n",
            "100000 1778 6.454843621000009\n",
            "100000 2371 9.264739492000018\n",
            "100000 3162 12.808518163999992\n",
            "100000 4216 16.749630751999973\n",
            "100000 5623 21.54547021999997\n",
            "100000 7498 28.19132776600003\n",
            "100000 10000 36.73423581899999\n",
            "1000000 10 0.5434158979999779\n",
            "1000000 13 0.6610410999999772\n",
            "1000000 17 0.8064216930000043\n",
            "1000000 23 0.9697892220000313\n",
            "1000000 31 1.4882201640000403\n",
            "1000000 42 1.8772250970000073\n",
            "1000000 56 2.140593265999996\n",
            "1000000 74 3.0155023229999642\n",
            "1000000 100 3.9181042820000016\n",
            "1000000 133 5.053787677999992\n",
            "1000000 177 6.597447951999982\n",
            "1000000 237 8.691854203000048\n",
            "1000000 316 11.445528509999974\n",
            "1000000 421 14.952729045000012\n",
            "1000000 562 19.967145594000044\n",
            "1000000 749 26.92027304300001\n",
            "1000000 1000 36.06503761900001\n",
            "1000000 1333 48.189980236\n",
            "1000000 1778 64.68796465000003\n",
            "1000000 2371 92.26308167700006\n",
            "1000000 3162 129.75350446699997\n",
            "1000000 4216 169.88711745\n",
            "1000000 5623 219.3437401839999\n",
            "1000000 7498 289.15084151300016\n",
            "1000000 10000 380.880666777\n",
            "10000000 10 6.468704656999989\n",
            "10000000 13 8.774927126000193\n",
            "10000000 17 9.74818732100016\n",
            "10000000 23 16.49627417900001\n",
            "10000000 31 18.024847517000126\n",
            "10000000 42 19.35294722499998\n",
            "10000000 56 28.21561056900009\n",
            "10000000 74 30.52390572000013\n",
            "10000000 100 43.208458417999964\n",
            "10000000 133 51.23771312400004\n",
            "10000000 177 64.73914204099992\n",
            "10000000 237 86.9336200710004\n",
            "10000000 316 114.94457199999988\n",
            "10000000 421 152.25599615800002\n",
            "10000000 562 202.334782033\n",
            "10000000 749 270.44649673699996\n",
            "10000000 1000 361.3738442260001\n",
            "10000000 1333 485.25591903800023\n",
            "10000000 1778 648.4290142559998\n",
            "10000000 2371 924.183567868\n",
            "10000000 3162 1303.6641126779996\n",
            "10000000 4216 1710.5608526300002\n",
            "10000000 5623 2205.773021702\n"
          ],
          "name": "stdout"
        }
      ]
    }
  ]
}