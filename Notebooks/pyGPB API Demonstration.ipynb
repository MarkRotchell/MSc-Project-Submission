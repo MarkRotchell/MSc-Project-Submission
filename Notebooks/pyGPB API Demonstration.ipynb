{
  "nbformat": 4,
  "nbformat_minor": 0,
  "metadata": {
    "colab": {
      "name": "Untitled55.ipynb",
      "provenance": []
    },
    "kernelspec": {
      "name": "python3",
      "display_name": "Python 3"
    },
    "language_info": {
      "name": "python"
    }
  },
  "cells": [
    {
      "cell_type": "code",
      "metadata": {
        "colab": {
          "base_uri": "https://localhost:8080/"
        },
        "id": "-T-dphvbsXOI",
        "outputId": "626ba498-b0e5-4b2b-ca03-8fc996074169"
      },
      "source": [
        "!pip install /content/pyGPB-0.0.1-py3-none-any.whl"
      ],
      "execution_count": null,
      "outputs": [
        {
          "output_type": "stream",
          "text": [
            "Processing ./pyGPB-0.0.1-py3-none-any.whl\n",
            "Requirement already satisfied: numpy in /usr/local/lib/python3.7/dist-packages (from pyGPB==0.0.1) (1.19.5)\n",
            "Requirement already satisfied: scipy in /usr/local/lib/python3.7/dist-packages (from pyGPB==0.0.1) (1.4.1)\n",
            "Requirement already satisfied: numba in /usr/local/lib/python3.7/dist-packages (from pyGPB==0.0.1) (0.51.2)\n",
            "Requirement already satisfied: llvmlite<0.35,>=0.34.0.dev0 in /usr/local/lib/python3.7/dist-packages (from numba->pyGPB==0.0.1) (0.34.0)\n",
            "Requirement already satisfied: setuptools in /usr/local/lib/python3.7/dist-packages (from numba->pyGPB==0.0.1) (57.4.0)\n",
            "Installing collected packages: pyGPB\n",
            "Successfully installed pyGPB-0.0.1\n"
          ],
          "name": "stdout"
        }
      ]
    },
    {
      "cell_type": "code",
      "metadata": {
        "id": "lnilSCePsfC1"
      },
      "source": [
        "from pyGPB import GPB, LFGPB"
      ],
      "execution_count": null,
      "outputs": []
    },
    {
      "cell_type": "code",
      "metadata": {
        "id": "ToE3ueb0si9K"
      },
      "source": [
        "x = GPB(probs=[0.1,0.2,0.3], weights=[1,2,3])"
      ],
      "execution_count": null,
      "outputs": []
    },
    {
      "cell_type": "code",
      "metadata": {
        "colab": {
          "base_uri": "https://localhost:8080/"
        },
        "id": "6ewKZLHBsnoK",
        "outputId": "1aca7833-08ca-4eab-8cc1-0fc6b2520591"
      },
      "source": [
        "# See the probability mass function as a vector\n",
        "x.pmf_vec"
      ],
      "execution_count": null,
      "outputs": [
        {
          "output_type": "execute_result",
          "data": {
            "text/plain": [
              "array([0.504, 0.056, 0.126, 0.23 , 0.024, 0.054, 0.006])"
            ]
          },
          "metadata": {},
          "execution_count": 5
        }
      ]
    },
    {
      "cell_type": "code",
      "metadata": {
        "colab": {
          "base_uri": "https://localhost:8080/"
        },
        "id": "rFbN22e9c43g",
        "outputId": "d5ec2717-3daa-4c83-cc07-1f79e089703f"
      },
      "source": [
        "# See the cumulative distribution function as a vector\n",
        "x.cdf_vec"
      ],
      "execution_count": null,
      "outputs": [
        {
          "output_type": "execute_result",
          "data": {
            "text/plain": [
              "array([0.504, 0.56 , 0.686, 0.916, 0.94 , 0.994, 1.   ])"
            ]
          },
          "metadata": {},
          "execution_count": 6
        }
      ]
    },
    {
      "cell_type": "code",
      "metadata": {
        "colab": {
          "base_uri": "https://localhost:8080/"
        },
        "id": "eMmP-wpJwGSw",
        "outputId": "518a968e-15f5-49b7-e87b-046cc27068d1"
      },
      "source": [
        "# Generate Some Random Variables\n",
        "x.rvs(size=(3,6))"
      ],
      "execution_count": null,
      "outputs": [
        {
          "output_type": "execute_result",
          "data": {
            "text/plain": [
              "array([[1, 2, 0, 0, 5, 0],\n",
              "       [0, 2, 3, 0, 0, 0],\n",
              "       [3, 0, 3, 3, 0, 4]])"
            ]
          },
          "metadata": {},
          "execution_count": 9
        }
      ]
    },
    {
      "cell_type": "code",
      "metadata": {
        "colab": {
          "base_uri": "https://localhost:8080/"
        },
        "id": "jg4ZgtJFdA8q",
        "outputId": "6acc2595-6d58-4200-b2db-1e7d8a75955d"
      },
      "source": [
        "# Calculate the Entropy of the RV\n",
        "x.entropy()"
      ],
      "execution_count": null,
      "outputs": [
        {
          "output_type": "execute_result",
          "data": {
            "text/plain": [
              "array(1.3835984)"
            ]
          },
          "metadata": {},
          "execution_count": 10
        }
      ]
    },
    {
      "cell_type": "code",
      "metadata": {
        "colab": {
          "base_uri": "https://localhost:8080/"
        },
        "id": "MAY8Oo1edNPJ",
        "outputId": "0104135b-4d2b-4e6d-e90b-38d4a2dfc3de"
      },
      "source": [
        "# Get the pmf and cdf at specific points\n",
        "x.pmf([0,2,4]), x.pmf([1,3,5])"
      ],
      "execution_count": null,
      "outputs": [
        {
          "output_type": "execute_result",
          "data": {
            "text/plain": [
              "(array([0.504, 0.126, 0.024]), array([0.056, 0.23 , 0.054]))"
            ]
          },
          "metadata": {},
          "execution_count": 11
        }
      ]
    },
    {
      "cell_type": "code",
      "metadata": {
        "colab": {
          "base_uri": "https://localhost:8080/"
        },
        "id": "2dLXoCxmdcJ3",
        "outputId": "7b0efaa0-e10c-4796-9cea-d208ac9992b7"
      },
      "source": [
        "# Get the mean, variance, skewness and kurtosis\n",
        "x.stats(moments='mvsk')"
      ],
      "execution_count": null,
      "outputs": [
        {
          "output_type": "execute_result",
          "data": {
            "text/plain": [
              "(array(1.4), array(2.62), array(0.73287359), array(-0.62333197))"
            ]
          },
          "metadata": {},
          "execution_count": 14
        }
      ]
    },
    {
      "cell_type": "code",
      "metadata": {
        "colab": {
          "base_uri": "https://localhost:8080/"
        },
        "id": "QOzeU-9qdqHY",
        "outputId": "750eed2b-cc5b-4f80-8d9d-ebbcde21de94"
      },
      "source": [
        "# Check the support \n",
        "x.support()"
      ],
      "execution_count": null,
      "outputs": [
        {
          "output_type": "execute_result",
          "data": {
            "text/plain": [
              "(0, 6)"
            ]
          },
          "metadata": {},
          "execution_count": 15
        }
      ]
    },
    {
      "cell_type": "code",
      "metadata": {
        "colab": {
          "base_uri": "https://localhost:8080/"
        },
        "id": "pWTivrIZdzqm",
        "outputId": "dfc4015d-d89e-4cee-d98c-4b1737dc8695"
      },
      "source": [
        "# Compute the expected value of some function of x\n",
        "x.expect(lambda x: x**3-x**2)"
      ],
      "execution_count": null,
      "outputs": [
        {
          "output_type": "execute_result",
          "data": {
            "text/plain": [
              "12.276000000000002"
            ]
          },
          "metadata": {},
          "execution_count": 21
        }
      ]
    },
    {
      "cell_type": "code",
      "metadata": {
        "id": "xqItLC8geDDw"
      },
      "source": [
        "# Generate a variable with both success and failure weights (even negative)\n",
        "x = GPB(probs=[0.1,0.2,0.3], weights=[-1,2,-3], failure_weights=[0,4,2])"
      ],
      "execution_count": null,
      "outputs": []
    },
    {
      "cell_type": "code",
      "metadata": {
        "colab": {
          "base_uri": "https://localhost:8080/"
        },
        "id": "Myp7tKIfeRN0",
        "outputId": "10796972-02a3-4e53-9882-c2009711fe06"
      },
      "source": [
        "# Check support and pmf\n",
        "x.support(), x.pmf_vec"
      ],
      "execution_count": null,
      "outputs": [
        {
          "output_type": "execute_result",
          "data": {
            "text/plain": [
              "((-2, 6),\n",
              " array([0.006, 0.054, 0.024, 0.216, 0.   , 0.014, 0.126, 0.056, 0.504]))"
            ]
          },
          "metadata": {},
          "execution_count": 18
        }
      ]
    },
    {
      "cell_type": "code",
      "metadata": {
        "id": "4JpHK15xeZtz"
      },
      "source": [
        "# Generate a variable which enforces CPU use only\n",
        "x = GPB(probs=[0.1,0.2,0.3], weights=[1,2,3], allow_GPU=False)"
      ],
      "execution_count": null,
      "outputs": []
    },
    {
      "cell_type": "code",
      "metadata": {
        "id": "SwI-5NQBejau"
      },
      "source": [
        "# Generate a variable which prioritises accuracy over speed (i.e. avoids FFT)\n",
        "x = GPB(probs=[0.1,0.2,0.3], weights=[1,2,3], prefer_speed=True)"
      ],
      "execution_count": null,
      "outputs": []
    },
    {
      "cell_type": "code",
      "metadata": {
        "colab": {
          "base_uri": "https://localhost:8080/"
        },
        "id": "qftoM7Amerhl",
        "outputId": "d63459af-1a6d-4b22-9a85-aa02143fac19"
      },
      "source": [
        "# Allow for correlation in a variable\n",
        "x = LFGPB(probs=[0.1,0.2,0.3], weights=[1,2,3], rho=0.5)\n",
        "x.pmf_vec"
      ],
      "execution_count": null,
      "outputs": [
        {
          "output_type": "execute_result",
          "data": {
            "text/plain": [
              "array([0.59292935, 0.02231788, 0.07241397, 0.17090654, 0.02618503,\n",
              "       0.07608894, 0.03915829])"
            ]
          },
          "metadata": {},
          "execution_count": 22
        }
      ]
    }
  ]
}