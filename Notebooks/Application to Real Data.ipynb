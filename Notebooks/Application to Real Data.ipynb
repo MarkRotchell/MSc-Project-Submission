{
  "nbformat": 4,
  "nbformat_minor": 0,
  "metadata": {
    "colab": {
      "name": "Project Real Data.ipynb",
      "provenance": [],
      "collapsed_sections": []
    },
    "kernelspec": {
      "name": "python3",
      "display_name": "Python 3"
    },
    "language_info": {
      "name": "python"
    },
    "accelerator": "GPU"
  },
  "cells": [
    {
      "cell_type": "code",
      "metadata": {
        "colab": {
          "base_uri": "https://localhost:8080/"
        },
        "id": "JCiiNKmUwbvZ",
        "outputId": "4975e0bd-9186-4422-d02f-8dab8db5b3d5"
      },
      "source": [
        "!pip install '/content/pyGPB-0.0.1-py3-none-any.whl'"
      ],
      "execution_count": null,
      "outputs": [
        {
          "output_type": "stream",
          "text": [
            "Processing ./pyGPB-0.0.1-py3-none-any.whl\n",
            "Requirement already satisfied: numpy in /usr/local/lib/python3.7/dist-packages (from pyGPB==0.0.1) (1.19.5)\n",
            "Requirement already satisfied: scipy in /usr/local/lib/python3.7/dist-packages (from pyGPB==0.0.1) (1.4.1)\n",
            "Requirement already satisfied: numba in /usr/local/lib/python3.7/dist-packages (from pyGPB==0.0.1) (0.51.2)\n",
            "Requirement already satisfied: setuptools in /usr/local/lib/python3.7/dist-packages (from numba->pyGPB==0.0.1) (57.4.0)\n",
            "Requirement already satisfied: llvmlite<0.35,>=0.34.0.dev0 in /usr/local/lib/python3.7/dist-packages (from numba->pyGPB==0.0.1) (0.34.0)\n",
            "Installing collected packages: pyGPB\n",
            "Successfully installed pyGPB-0.0.1\n"
          ],
          "name": "stdout"
        }
      ]
    },
    {
      "cell_type": "code",
      "metadata": {
        "id": "L0ILdD98qQVt"
      },
      "source": [
        "from pyGPB import GPB, LFGPB\n",
        "import numpy as np\n",
        "import pandas as pd\n",
        "from matplotlib import pyplot as plt\n",
        "import matplotlib\n",
        "from scipy.stats import norm"
      ],
      "execution_count": null,
      "outputs": []
    },
    {
      "cell_type": "code",
      "metadata": {
        "id": "elPI38TUoOIF"
      },
      "source": [
        "matplotlib.rcParams['mathtext.fontset'] = 'stix'\n",
        "matplotlib.rcParams['font.family'] = 'STIXGeneral'"
      ],
      "execution_count": null,
      "outputs": []
    },
    {
      "cell_type": "code",
      "metadata": {
        "id": "6pdh5JaxqZyK"
      },
      "source": [
        "df = pd.read_csv('/content/portfolio.csv')"
      ],
      "execution_count": null,
      "outputs": []
    },
    {
      "cell_type": "code",
      "metadata": {
        "colab": {
          "base_uri": "https://localhost:8080/"
        },
        "id": "Q-4JeRpFqfk7",
        "outputId": "cf065a54-8885-42b9-c470-cff013b6a799"
      },
      "source": [
        "df.info()"
      ],
      "execution_count": null,
      "outputs": [
        {
          "output_type": "stream",
          "text": [
            "<class 'pandas.core.frame.DataFrame'>\n",
            "RangeIndex: 28 entries, 0 to 27\n",
            "Data columns (total 9 columns):\n",
            " #   Column    Non-Null Count  Dtype  \n",
            "---  ------    --------------  -----  \n",
            " 0   country   28 non-null     object \n",
            " 1   rating    28 non-null     object \n",
            " 2   gdp       28 non-null     int64  \n",
            " 3   gdp_prev  28 non-null     int64  \n",
            " 4   cds       28 non-null     float64\n",
            " 5   cds_prev  28 non-null     float64\n",
            " 6   pd        28 non-null     float64\n",
            " 7   pd_prev   28 non-null     float64\n",
            " 8   rr        28 non-null     float64\n",
            "dtypes: float64(5), int64(2), object(2)\n",
            "memory usage: 2.1+ KB\n"
          ],
          "name": "stdout"
        }
      ]
    },
    {
      "cell_type": "code",
      "metadata": {
        "id": "WWFoacutE__4"
      },
      "source": [
        "PORTFOLIO_VALUE = 1_000_000"
      ],
      "execution_count": null,
      "outputs": []
    },
    {
      "cell_type": "code",
      "metadata": {
        "id": "FhV9a1O-C_nq"
      },
      "source": [
        "df['investment'] = np.around(PORTFOLIO_VALUE*df.gdp/(df.gdp.sum()),2)\n",
        "df['investment_prev'] = np.around(PORTFOLIO_VALUE*df.gdp_prev/(df.gdp_prev.sum()),2)"
      ],
      "execution_count": null,
      "outputs": []
    },
    {
      "cell_type": "code",
      "metadata": {
        "id": "8z2Flls8qgEK"
      },
      "source": [
        "df['lgd'] = np.around(df.investment * (1-df.rr)).astype(np.int32)\n",
        "df['lgd_prev'] = np.around(df.investment_prev * (1-df.rr)).astype(np.int32)"
      ],
      "execution_count": null,
      "outputs": []
    },
    {
      "cell_type": "code",
      "metadata": {
        "colab": {
          "base_uri": "https://localhost:8080/",
          "height": 907
        },
        "id": "KJkjgDHVqwzH",
        "outputId": "591a6e90-0b13-4a44-bb7a-78908155cfe0"
      },
      "source": [
        "df"
      ],
      "execution_count": null,
      "outputs": [
        {
          "output_type": "execute_result",
          "data": {
            "text/html": [
              "<div>\n",
              "<style scoped>\n",
              "    .dataframe tbody tr th:only-of-type {\n",
              "        vertical-align: middle;\n",
              "    }\n",
              "\n",
              "    .dataframe tbody tr th {\n",
              "        vertical-align: top;\n",
              "    }\n",
              "\n",
              "    .dataframe thead th {\n",
              "        text-align: right;\n",
              "    }\n",
              "</style>\n",
              "<table border=\"1\" class=\"dataframe\">\n",
              "  <thead>\n",
              "    <tr style=\"text-align: right;\">\n",
              "      <th></th>\n",
              "      <th>country</th>\n",
              "      <th>rating</th>\n",
              "      <th>gdp</th>\n",
              "      <th>gdp_prev</th>\n",
              "      <th>cds</th>\n",
              "      <th>cds_prev</th>\n",
              "      <th>pd</th>\n",
              "      <th>pd_prev</th>\n",
              "      <th>rr</th>\n",
              "      <th>investment</th>\n",
              "      <th>investment_prev</th>\n",
              "      <th>lgd</th>\n",
              "      <th>lgd_prev</th>\n",
              "    </tr>\n",
              "  </thead>\n",
              "  <tbody>\n",
              "    <tr>\n",
              "      <th>0</th>\n",
              "      <td>Denmark</td>\n",
              "      <td>AAA</td>\n",
              "      <td>355</td>\n",
              "      <td>350</td>\n",
              "      <td>7.48</td>\n",
              "      <td>7.910321</td>\n",
              "      <td>0.006376</td>\n",
              "      <td>0.006741</td>\n",
              "      <td>0.40</td>\n",
              "      <td>5182.48</td>\n",
              "      <td>4988.53</td>\n",
              "      <td>3109</td>\n",
              "      <td>2993</td>\n",
              "    </tr>\n",
              "    <tr>\n",
              "      <th>1</th>\n",
              "      <td>Sweden</td>\n",
              "      <td>AAA</td>\n",
              "      <td>538</td>\n",
              "      <td>531</td>\n",
              "      <td>8.51</td>\n",
              "      <td>10.879570</td>\n",
              "      <td>0.007250</td>\n",
              "      <td>0.009260</td>\n",
              "      <td>0.40</td>\n",
              "      <td>7854.01</td>\n",
              "      <td>7568.31</td>\n",
              "      <td>4712</td>\n",
              "      <td>4541</td>\n",
              "    </tr>\n",
              "    <tr>\n",
              "      <th>2</th>\n",
              "      <td>United Kingdom</td>\n",
              "      <td>AA</td>\n",
              "      <td>2708</td>\n",
              "      <td>2831</td>\n",
              "      <td>9.08</td>\n",
              "      <td>15.330069</td>\n",
              "      <td>0.007734</td>\n",
              "      <td>0.013023</td>\n",
              "      <td>0.40</td>\n",
              "      <td>39532.85</td>\n",
              "      <td>40350.05</td>\n",
              "      <td>23720</td>\n",
              "      <td>24210</td>\n",
              "    </tr>\n",
              "    <tr>\n",
              "      <th>3</th>\n",
              "      <td>Austria</td>\n",
              "      <td>AA+</td>\n",
              "      <td>429</td>\n",
              "      <td>445</td>\n",
              "      <td>9.71</td>\n",
              "      <td>9.829925</td>\n",
              "      <td>0.008268</td>\n",
              "      <td>0.008370</td>\n",
              "      <td>0.40</td>\n",
              "      <td>6262.77</td>\n",
              "      <td>6342.55</td>\n",
              "      <td>3758</td>\n",
              "      <td>3806</td>\n",
              "    </tr>\n",
              "    <tr>\n",
              "      <th>4</th>\n",
              "      <td>United States</td>\n",
              "      <td>AA+</td>\n",
              "      <td>20937</td>\n",
              "      <td>21433</td>\n",
              "      <td>10.00</td>\n",
              "      <td>10.099990</td>\n",
              "      <td>0.008370</td>\n",
              "      <td>0.008599</td>\n",
              "      <td>0.40</td>\n",
              "      <td>305649.64</td>\n",
              "      <td>305483.10</td>\n",
              "      <td>183390</td>\n",
              "      <td>183290</td>\n",
              "    </tr>\n",
              "    <tr>\n",
              "      <th>5</th>\n",
              "      <td>Germany</td>\n",
              "      <td>AAA</td>\n",
              "      <td>3806</td>\n",
              "      <td>3861</td>\n",
              "      <td>10.20</td>\n",
              "      <td>10.200000</td>\n",
              "      <td>0.008684</td>\n",
              "      <td>0.008684</td>\n",
              "      <td>0.40</td>\n",
              "      <td>55562.04</td>\n",
              "      <td>55030.57</td>\n",
              "      <td>33337</td>\n",
              "      <td>33018</td>\n",
              "    </tr>\n",
              "    <tr>\n",
              "      <th>6</th>\n",
              "      <td>Netherlands</td>\n",
              "      <td>AAA</td>\n",
              "      <td>912</td>\n",
              "      <td>907</td>\n",
              "      <td>10.30</td>\n",
              "      <td>10.300000</td>\n",
              "      <td>0.008769</td>\n",
              "      <td>0.008769</td>\n",
              "      <td>0.40</td>\n",
              "      <td>13313.87</td>\n",
              "      <td>12927.41</td>\n",
              "      <td>7988</td>\n",
              "      <td>7756</td>\n",
              "    </tr>\n",
              "    <tr>\n",
              "      <th>7</th>\n",
              "      <td>Norway</td>\n",
              "      <td>AAA</td>\n",
              "      <td>362</td>\n",
              "      <td>406</td>\n",
              "      <td>10.40</td>\n",
              "      <td>10.000000</td>\n",
              "      <td>0.008853</td>\n",
              "      <td>0.008514</td>\n",
              "      <td>0.40</td>\n",
              "      <td>5284.67</td>\n",
              "      <td>5786.69</td>\n",
              "      <td>3171</td>\n",
              "      <td>3472</td>\n",
              "    </tr>\n",
              "    <tr>\n",
              "      <th>8</th>\n",
              "      <td>Belgium</td>\n",
              "      <td>AA</td>\n",
              "      <td>515</td>\n",
              "      <td>533</td>\n",
              "      <td>12.20</td>\n",
              "      <td>12.099574</td>\n",
              "      <td>0.010378</td>\n",
              "      <td>0.010293</td>\n",
              "      <td>0.40</td>\n",
              "      <td>7518.25</td>\n",
              "      <td>7596.81</td>\n",
              "      <td>4511</td>\n",
              "      <td>4558</td>\n",
              "    </tr>\n",
              "    <tr>\n",
              "      <th>9</th>\n",
              "      <td>Ireland</td>\n",
              "      <td>AA-</td>\n",
              "      <td>419</td>\n",
              "      <td>399</td>\n",
              "      <td>14.50</td>\n",
              "      <td>14.400636</td>\n",
              "      <td>0.012322</td>\n",
              "      <td>0.012238</td>\n",
              "      <td>0.40</td>\n",
              "      <td>6116.79</td>\n",
              "      <td>5686.92</td>\n",
              "      <td>3670</td>\n",
              "      <td>3412</td>\n",
              "    </tr>\n",
              "    <tr>\n",
              "      <th>10</th>\n",
              "      <td>Australia</td>\n",
              "      <td>AAA</td>\n",
              "      <td>1331</td>\n",
              "      <td>1397</td>\n",
              "      <td>15.54</td>\n",
              "      <td>14.569661</td>\n",
              "      <td>0.013200</td>\n",
              "      <td>0.012381</td>\n",
              "      <td>0.40</td>\n",
              "      <td>19430.66</td>\n",
              "      <td>19911.35</td>\n",
              "      <td>11658</td>\n",
              "      <td>11947</td>\n",
              "    </tr>\n",
              "    <tr>\n",
              "      <th>11</th>\n",
              "      <td>New Zealand</td>\n",
              "      <td>AA+</td>\n",
              "      <td>212</td>\n",
              "      <td>209</td>\n",
              "      <td>15.70</td>\n",
              "      <td>15.399706</td>\n",
              "      <td>0.013335</td>\n",
              "      <td>0.013082</td>\n",
              "      <td>0.40</td>\n",
              "      <td>3094.89</td>\n",
              "      <td>2978.86</td>\n",
              "      <td>1857</td>\n",
              "      <td>1787</td>\n",
              "    </tr>\n",
              "    <tr>\n",
              "      <th>12</th>\n",
              "      <td>South Korea</td>\n",
              "      <td>AA</td>\n",
              "      <td>1631</td>\n",
              "      <td>1647</td>\n",
              "      <td>17.64</td>\n",
              "      <td>24.310915</td>\n",
              "      <td>0.014970</td>\n",
              "      <td>0.020572</td>\n",
              "      <td>0.40</td>\n",
              "      <td>23810.22</td>\n",
              "      <td>23474.58</td>\n",
              "      <td>14286</td>\n",
              "      <td>14085</td>\n",
              "    </tr>\n",
              "    <tr>\n",
              "      <th>13</th>\n",
              "      <td>Japan</td>\n",
              "      <td>A+</td>\n",
              "      <td>5065</td>\n",
              "      <td>4955</td>\n",
              "      <td>17.80</td>\n",
              "      <td>15.199385</td>\n",
              "      <td>0.015105</td>\n",
              "      <td>0.012913</td>\n",
              "      <td>0.40</td>\n",
              "      <td>73941.61</td>\n",
              "      <td>70623.28</td>\n",
              "      <td>44365</td>\n",
              "      <td>42374</td>\n",
              "    </tr>\n",
              "    <tr>\n",
              "      <th>14</th>\n",
              "      <td>France</td>\n",
              "      <td>AA</td>\n",
              "      <td>2603</td>\n",
              "      <td>2716</td>\n",
              "      <td>20.80</td>\n",
              "      <td>15.899710</td>\n",
              "      <td>0.017628</td>\n",
              "      <td>0.013504</td>\n",
              "      <td>0.40</td>\n",
              "      <td>38000.00</td>\n",
              "      <td>38710.96</td>\n",
              "      <td>22800</td>\n",
              "      <td>23227</td>\n",
              "    </tr>\n",
              "    <tr>\n",
              "      <th>15</th>\n",
              "      <td>Portugal</td>\n",
              "      <td>BBB</td>\n",
              "      <td>231</td>\n",
              "      <td>240</td>\n",
              "      <td>28.80</td>\n",
              "      <td>31.399913</td>\n",
              "      <td>0.024325</td>\n",
              "      <td>0.026492</td>\n",
              "      <td>0.40</td>\n",
              "      <td>3372.26</td>\n",
              "      <td>3420.70</td>\n",
              "      <td>2023</td>\n",
              "      <td>2052</td>\n",
              "    </tr>\n",
              "    <tr>\n",
              "      <th>16</th>\n",
              "      <td>Spain</td>\n",
              "      <td>A</td>\n",
              "      <td>1281</td>\n",
              "      <td>1393</td>\n",
              "      <td>29.60</td>\n",
              "      <td>35.500120</td>\n",
              "      <td>0.024993</td>\n",
              "      <td>0.029899</td>\n",
              "      <td>0.40</td>\n",
              "      <td>18700.73</td>\n",
              "      <td>19854.34</td>\n",
              "      <td>11220</td>\n",
              "      <td>11913</td>\n",
              "    </tr>\n",
              "    <tr>\n",
              "      <th>17</th>\n",
              "      <td>Hong Kong</td>\n",
              "      <td>AA+</td>\n",
              "      <td>347</td>\n",
              "      <td>366</td>\n",
              "      <td>32.20</td>\n",
              "      <td>29.699317</td>\n",
              "      <td>0.027158</td>\n",
              "      <td>0.025076</td>\n",
              "      <td>0.40</td>\n",
              "      <td>5065.69</td>\n",
              "      <td>5216.57</td>\n",
              "      <td>3039</td>\n",
              "      <td>3130</td>\n",
              "    </tr>\n",
              "    <tr>\n",
              "      <th>18</th>\n",
              "      <td>China</td>\n",
              "      <td>A+</td>\n",
              "      <td>14723</td>\n",
              "      <td>14280</td>\n",
              "      <td>33.81</td>\n",
              "      <td>32.879510</td>\n",
              "      <td>0.028496</td>\n",
              "      <td>0.027723</td>\n",
              "      <td>0.40</td>\n",
              "      <td>214934.31</td>\n",
              "      <td>203531.88</td>\n",
              "      <td>128961</td>\n",
              "      <td>122119</td>\n",
              "    </tr>\n",
              "    <tr>\n",
              "      <th>19</th>\n",
              "      <td>Canada</td>\n",
              "      <td>AAA</td>\n",
              "      <td>1643</td>\n",
              "      <td>1742</td>\n",
              "      <td>37.80</td>\n",
              "      <td>36.599535</td>\n",
              "      <td>0.031805</td>\n",
              "      <td>0.030811</td>\n",
              "      <td>0.40</td>\n",
              "      <td>23985.40</td>\n",
              "      <td>24828.61</td>\n",
              "      <td>14391</td>\n",
              "      <td>14897</td>\n",
              "    </tr>\n",
              "    <tr>\n",
              "      <th>20</th>\n",
              "      <td>Poland</td>\n",
              "      <td>A-</td>\n",
              "      <td>594</td>\n",
              "      <td>596</td>\n",
              "      <td>50.50</td>\n",
              "      <td>53.501430</td>\n",
              "      <td>0.033955</td>\n",
              "      <td>0.035936</td>\n",
              "      <td>0.25</td>\n",
              "      <td>8671.53</td>\n",
              "      <td>8494.75</td>\n",
              "      <td>6504</td>\n",
              "      <td>6371</td>\n",
              "    </tr>\n",
              "    <tr>\n",
              "      <th>21</th>\n",
              "      <td>Indonesia</td>\n",
              "      <td>BBB</td>\n",
              "      <td>1058</td>\n",
              "      <td>1119</td>\n",
              "      <td>71.10</td>\n",
              "      <td>79.423592</td>\n",
              "      <td>0.058986</td>\n",
              "      <td>0.065657</td>\n",
              "      <td>0.40</td>\n",
              "      <td>15445.26</td>\n",
              "      <td>15949.03</td>\n",
              "      <td>9267</td>\n",
              "      <td>9569</td>\n",
              "    </tr>\n",
              "    <tr>\n",
              "      <th>22</th>\n",
              "      <td>Italy</td>\n",
              "      <td>BBB</td>\n",
              "      <td>1886</td>\n",
              "      <td>2005</td>\n",
              "      <td>72.80</td>\n",
              "      <td>74.697312</td>\n",
              "      <td>0.060353</td>\n",
              "      <td>0.061878</td>\n",
              "      <td>0.40</td>\n",
              "      <td>27532.85</td>\n",
              "      <td>28577.13</td>\n",
              "      <td>16520</td>\n",
              "      <td>17146</td>\n",
              "    </tr>\n",
              "    <tr>\n",
              "      <th>23</th>\n",
              "      <td>Greece</td>\n",
              "      <td>BB</td>\n",
              "      <td>189</td>\n",
              "      <td>205</td>\n",
              "      <td>74.00</td>\n",
              "      <td>78.100264</td>\n",
              "      <td>0.061316</td>\n",
              "      <td>0.064602</td>\n",
              "      <td>0.40</td>\n",
              "      <td>2759.12</td>\n",
              "      <td>2921.85</td>\n",
              "      <td>1655</td>\n",
              "      <td>1753</td>\n",
              "    </tr>\n",
              "    <tr>\n",
              "      <th>24</th>\n",
              "      <td>Russia</td>\n",
              "      <td>BBB-</td>\n",
              "      <td>1484</td>\n",
              "      <td>1687</td>\n",
              "      <td>83.21</td>\n",
              "      <td>87.176532</td>\n",
              "      <td>0.055332</td>\n",
              "      <td>0.057894</td>\n",
              "      <td>0.25</td>\n",
              "      <td>21664.23</td>\n",
              "      <td>24044.70</td>\n",
              "      <td>16248</td>\n",
              "      <td>18034</td>\n",
              "    </tr>\n",
              "    <tr>\n",
              "      <th>25</th>\n",
              "      <td>Mexico</td>\n",
              "      <td>BBB</td>\n",
              "      <td>1076</td>\n",
              "      <td>1269</td>\n",
              "      <td>90.15</td>\n",
              "      <td>98.021094</td>\n",
              "      <td>0.059806</td>\n",
              "      <td>0.064854</td>\n",
              "      <td>0.25</td>\n",
              "      <td>15708.03</td>\n",
              "      <td>18086.97</td>\n",
              "      <td>11781</td>\n",
              "      <td>13565</td>\n",
              "    </tr>\n",
              "    <tr>\n",
              "      <th>26</th>\n",
              "      <td>Brazil</td>\n",
              "      <td>BB-</td>\n",
              "      <td>1445</td>\n",
              "      <td>1878</td>\n",
              "      <td>176.00</td>\n",
              "      <td>194.303378</td>\n",
              "      <td>0.113434</td>\n",
              "      <td>0.124464</td>\n",
              "      <td>0.25</td>\n",
              "      <td>21094.89</td>\n",
              "      <td>26767.01</td>\n",
              "      <td>15821</td>\n",
              "      <td>20075</td>\n",
              "    </tr>\n",
              "    <tr>\n",
              "      <th>27</th>\n",
              "      <td>Turkey</td>\n",
              "      <td>B+</td>\n",
              "      <td>720</td>\n",
              "      <td>761</td>\n",
              "      <td>362.91</td>\n",
              "      <td>296.519323</td>\n",
              "      <td>0.219856</td>\n",
              "      <td>0.183602</td>\n",
              "      <td>0.25</td>\n",
              "      <td>10510.95</td>\n",
              "      <td>10846.48</td>\n",
              "      <td>7883</td>\n",
              "      <td>8135</td>\n",
              "    </tr>\n",
              "  </tbody>\n",
              "</table>\n",
              "</div>"
            ],
            "text/plain": [
              "           country rating    gdp  ...  investment_prev     lgd  lgd_prev\n",
              "0          Denmark    AAA    355  ...          4988.53    3109      2993\n",
              "1           Sweden    AAA    538  ...          7568.31    4712      4541\n",
              "2   United Kingdom     AA   2708  ...         40350.05   23720     24210\n",
              "3          Austria    AA+    429  ...          6342.55    3758      3806\n",
              "4    United States    AA+  20937  ...        305483.10  183390    183290\n",
              "5          Germany    AAA   3806  ...         55030.57   33337     33018\n",
              "6      Netherlands    AAA    912  ...         12927.41    7988      7756\n",
              "7           Norway    AAA    362  ...          5786.69    3171      3472\n",
              "8          Belgium     AA    515  ...          7596.81    4511      4558\n",
              "9          Ireland    AA-    419  ...          5686.92    3670      3412\n",
              "10       Australia    AAA   1331  ...         19911.35   11658     11947\n",
              "11     New Zealand    AA+    212  ...          2978.86    1857      1787\n",
              "12     South Korea     AA   1631  ...         23474.58   14286     14085\n",
              "13           Japan     A+   5065  ...         70623.28   44365     42374\n",
              "14          France     AA   2603  ...         38710.96   22800     23227\n",
              "15        Portugal    BBB    231  ...          3420.70    2023      2052\n",
              "16           Spain      A   1281  ...         19854.34   11220     11913\n",
              "17       Hong Kong    AA+    347  ...          5216.57    3039      3130\n",
              "18           China     A+  14723  ...        203531.88  128961    122119\n",
              "19          Canada    AAA   1643  ...         24828.61   14391     14897\n",
              "20          Poland     A-    594  ...          8494.75    6504      6371\n",
              "21       Indonesia    BBB   1058  ...         15949.03    9267      9569\n",
              "22           Italy    BBB   1886  ...         28577.13   16520     17146\n",
              "23          Greece     BB    189  ...          2921.85    1655      1753\n",
              "24          Russia   BBB-   1484  ...         24044.70   16248     18034\n",
              "25          Mexico    BBB   1076  ...         18086.97   11781     13565\n",
              "26          Brazil    BB-   1445  ...         26767.01   15821     20075\n",
              "27          Turkey     B+    720  ...         10846.48    7883      8135\n",
              "\n",
              "[28 rows x 13 columns]"
            ]
          },
          "metadata": {},
          "execution_count": 8
        }
      ]
    },
    {
      "cell_type": "markdown",
      "metadata": {
        "id": "sagw3LUVFp-d"
      },
      "source": [
        "# Current Exposure Profile"
      ]
    },
    {
      "cell_type": "code",
      "metadata": {
        "id": "cXm7Bt0IFoo4"
      },
      "source": [
        "rv = GPB(probs = df.pd, weights = df.lgd)"
      ],
      "execution_count": null,
      "outputs": []
    },
    {
      "cell_type": "code",
      "metadata": {
        "id": "zERqmO0vs9fv"
      },
      "source": [
        "support_vec = np.arange(0, rv.support_end+1, dtype=np.float64)"
      ],
      "execution_count": null,
      "outputs": []
    },
    {
      "cell_type": "code",
      "metadata": {
        "colab": {
          "base_uri": "https://localhost:8080/",
          "height": 431
        },
        "id": "kMRAx3b7F_-s",
        "outputId": "656ea94a-b1c8-4511-b4d7-ccef53b50a76"
      },
      "source": [
        "plt.plot(support_vec, rv.cdf_vec, linewidth=0.8, label='mutually independent', color='red')\n",
        "plt.xscale('log')\n",
        "plt.tick_params(labelsize=12, direction='in')\n",
        "plt.grid(axis='both', linewidth=0.8)\n",
        "plt.xlim(left=1000, right=1e6)\n",
        "fig = plt.gcf()\n",
        "fig.set_size_inches(7, 7)\n",
        "ax = fig.gca()\n",
        "for axis in ['top','bottom','left','right']:\n",
        "    ax.spines[axis].set_linewidth(0.8)\n",
        "ax.legend(loc='lower right', fontsize=12)\n",
        "#plt.savefig('line_plot.pdf')\n",
        "plt.show()"
      ],
      "execution_count": null,
      "outputs": [
        {
          "output_type": "display_data",
          "data": {
            "image/png": "[encoded data removed]",
            "text/plain": [
              "<Figure size 504x504 with 1 Axes>"
            ]
          },
          "metadata": {
            "needs_background": "light"
          }
        }
      ]
    },
    {
      "cell_type": "code",
      "metadata": {
        "colab": {
          "base_uri": "https://localhost:8080/",
          "height": 34
        },
        "id": "dWb2d1RLmMJs",
        "outputId": "41cf10d4-e1fd-4991-d1b9-4ed3b4852e5c"
      },
      "source": [
        "plt.savefig('line_plot.pdf')"
      ],
      "execution_count": null,
      "outputs": [
        {
          "output_type": "display_data",
          "data": {
            "text/plain": [
              "<Figure size 432x288 with 0 Axes>"
            ]
          },
          "metadata": {}
        }
      ]
    },
    {
      "cell_type": "code",
      "metadata": {
        "id": "1qR6TFZB4g9I",
        "colab": {
          "base_uri": "https://localhost:8080/"
        },
        "outputId": "e05d37e9-bbea-4cfe-b999-255375a1c066"
      },
      "source": [
        "rv.mean(), rv.std()"
      ],
      "execution_count": null,
      "outputs": [
        {
          "output_type": "execute_result",
          "data": {
            "text/plain": [
              "(15289.789402999993, 29781.016845312413)"
            ]
          },
          "metadata": {},
          "execution_count": 13
        }
      ]
    },
    {
      "cell_type": "code",
      "metadata": {
        "colab": {
          "base_uri": "https://localhost:8080/",
          "height": 268
        },
        "id": "BT_R4HY3VONS",
        "outputId": "314371c2-fc63-4e4a-8583-c8984e991fbd"
      },
      "source": [
        "plt.plot(support_vec, rv.pmf_vec)\n",
        "plt.xscale('log')"
      ],
      "execution_count": null,
      "outputs": [
        {
          "output_type": "display_data",
          "data": {
            "image/png": "[encoded data removed]",
            "text/plain": [
              "<Figure size 432x288 with 1 Axes>"
            ]
          },
          "metadata": {
            "needs_background": "light"
          }
        }
      ]
    },
    {
      "cell_type": "code",
      "metadata": {
        "id": "54mOUsuZbanC"
      },
      "source": [
        "log_space_cdf_summary_points = sorted(set(np.logspace(0,np.log10(rv.support_end +1), 10000, dtype=np.int32)) | {0})\n",
        "log_space_cdf_summary_values = rv.cdf(log_space_cdf_summary_points)"
      ],
      "execution_count": null,
      "outputs": []
    },
    {
      "cell_type": "code",
      "metadata": {
        "id": "RpL_NynEXZu6"
      },
      "source": [
        "pd.DataFrame({'x': log_space_cdf_summary_points, 'cdf':log_space_cdf_summary_values}).to_csv('log_cdf_summary.csv', index=False, sep='\\t')"
      ],
      "execution_count": null,
      "outputs": []
    },
    {
      "cell_type": "code",
      "metadata": {
        "id": "PCH_1i2ncP9R"
      },
      "source": [
        ""
      ],
      "execution_count": null,
      "outputs": []
    },
    {
      "cell_type": "code",
      "metadata": {
        "colab": {
          "base_uri": "https://localhost:8080/"
        },
        "id": "DSSk3xsEbg8N",
        "outputId": "b7a639c5-9f30-45b2-f68f-69b04ec6e447"
      },
      "source": [
        "rv.support_end +1"
      ],
      "execution_count": null,
      "outputs": [
        {
          "output_type": "execute_result",
          "data": {
            "text/plain": [
              "611646"
            ]
          },
          "metadata": {},
          "execution_count": 37
        }
      ]
    },
    {
      "cell_type": "code",
      "metadata": {
        "colab": {
          "base_uri": "https://localhost:8080/"
        },
        "id": "GtLwYpUMJTVC",
        "outputId": "db10d331-e959-4e1e-84d5-3845bfa066d2"
      },
      "source": [
        "quantile_points = np.linspace(0.05,1,20)\n",
        "quantile_points = np.sort(np.append(quantile_points,[0.99,0.999]))\n",
        "quantile_points"
      ],
      "execution_count": null,
      "outputs": [
        {
          "output_type": "execute_result",
          "data": {
            "text/plain": [
              "array([0.05 , 0.1  , 0.15 , 0.2  , 0.25 , 0.3  , 0.35 , 0.4  , 0.45 ,\n",
              "       0.5  , 0.55 , 0.6  , 0.65 , 0.7  , 0.75 , 0.8  , 0.85 , 0.9  ,\n",
              "       0.95 , 0.99 , 0.999, 1.   ])"
            ]
          },
          "metadata": {},
          "execution_count": 203
        }
      ]
    },
    {
      "cell_type": "code",
      "metadata": {
        "colab": {
          "base_uri": "https://localhost:8080/",
          "height": 723
        },
        "id": "QWIWrz-cGMqW",
        "outputId": "d61bc62e-3cd2-4d66-c845-1053816a0692"
      },
      "source": [
        "# Quantile Summary\n",
        "pd.DataFrame({'quantile_point':quantile_points, 'quantile_value': rv.ppf(quantile_points)})"
      ],
      "execution_count": null,
      "outputs": [
        {
          "output_type": "execute_result",
          "data": {
            "text/html": [
              "<div>\n",
              "<style scoped>\n",
              "    .dataframe tbody tr th:only-of-type {\n",
              "        vertical-align: middle;\n",
              "    }\n",
              "\n",
              "    .dataframe tbody tr th {\n",
              "        vertical-align: top;\n",
              "    }\n",
              "\n",
              "    .dataframe thead th {\n",
              "        text-align: right;\n",
              "    }\n",
              "</style>\n",
              "<table border=\"1\" class=\"dataframe\">\n",
              "  <thead>\n",
              "    <tr style=\"text-align: right;\">\n",
              "      <th></th>\n",
              "      <th>quantile_point</th>\n",
              "      <th>quantile_value</th>\n",
              "    </tr>\n",
              "  </thead>\n",
              "  <tbody>\n",
              "    <tr>\n",
              "      <th>0</th>\n",
              "      <td>0.050</td>\n",
              "      <td>0.0</td>\n",
              "    </tr>\n",
              "    <tr>\n",
              "      <th>1</th>\n",
              "      <td>0.100</td>\n",
              "      <td>0.0</td>\n",
              "    </tr>\n",
              "    <tr>\n",
              "      <th>2</th>\n",
              "      <td>0.150</td>\n",
              "      <td>0.0</td>\n",
              "    </tr>\n",
              "    <tr>\n",
              "      <th>3</th>\n",
              "      <td>0.200</td>\n",
              "      <td>0.0</td>\n",
              "    </tr>\n",
              "    <tr>\n",
              "      <th>4</th>\n",
              "      <td>0.250</td>\n",
              "      <td>0.0</td>\n",
              "    </tr>\n",
              "    <tr>\n",
              "      <th>5</th>\n",
              "      <td>0.300</td>\n",
              "      <td>0.0</td>\n",
              "    </tr>\n",
              "    <tr>\n",
              "      <th>6</th>\n",
              "      <td>0.350</td>\n",
              "      <td>0.0</td>\n",
              "    </tr>\n",
              "    <tr>\n",
              "      <th>7</th>\n",
              "      <td>0.400</td>\n",
              "      <td>2023.0</td>\n",
              "    </tr>\n",
              "    <tr>\n",
              "      <th>8</th>\n",
              "      <td>0.450</td>\n",
              "      <td>7751.0</td>\n",
              "    </tr>\n",
              "    <tr>\n",
              "      <th>9</th>\n",
              "      <td>0.500</td>\n",
              "      <td>7883.0</td>\n",
              "    </tr>\n",
              "    <tr>\n",
              "      <th>10</th>\n",
              "      <td>0.550</td>\n",
              "      <td>7883.0</td>\n",
              "    </tr>\n",
              "    <tr>\n",
              "      <th>11</th>\n",
              "      <td>0.600</td>\n",
              "      <td>11220.0</td>\n",
              "    </tr>\n",
              "    <tr>\n",
              "      <th>12</th>\n",
              "      <td>0.650</td>\n",
              "      <td>14286.0</td>\n",
              "    </tr>\n",
              "    <tr>\n",
              "      <th>13</th>\n",
              "      <td>0.700</td>\n",
              "      <td>15821.0</td>\n",
              "    </tr>\n",
              "    <tr>\n",
              "      <th>14</th>\n",
              "      <td>0.750</td>\n",
              "      <td>16520.0</td>\n",
              "    </tr>\n",
              "    <tr>\n",
              "      <th>15</th>\n",
              "      <td>0.800</td>\n",
              "      <td>19664.0</td>\n",
              "    </tr>\n",
              "    <tr>\n",
              "      <th>16</th>\n",
              "      <td>0.850</td>\n",
              "      <td>24131.0</td>\n",
              "    </tr>\n",
              "    <tr>\n",
              "      <th>17</th>\n",
              "      <td>0.900</td>\n",
              "      <td>30806.0</td>\n",
              "    </tr>\n",
              "    <tr>\n",
              "      <th>18</th>\n",
              "      <td>0.950</td>\n",
              "      <td>48589.0</td>\n",
              "    </tr>\n",
              "    <tr>\n",
              "      <th>19</th>\n",
              "      <td>0.990</td>\n",
              "      <td>161302.0</td>\n",
              "    </tr>\n",
              "    <tr>\n",
              "      <th>20</th>\n",
              "      <td>0.999</td>\n",
              "      <td>209457.0</td>\n",
              "    </tr>\n",
              "    <tr>\n",
              "      <th>21</th>\n",
              "      <td>1.000</td>\n",
              "      <td>611645.0</td>\n",
              "    </tr>\n",
              "  </tbody>\n",
              "</table>\n",
              "</div>"
            ],
            "text/plain": [
              "    quantile_point  quantile_value\n",
              "0            0.050             0.0\n",
              "1            0.100             0.0\n",
              "2            0.150             0.0\n",
              "3            0.200             0.0\n",
              "4            0.250             0.0\n",
              "5            0.300             0.0\n",
              "6            0.350             0.0\n",
              "7            0.400          2023.0\n",
              "8            0.450          7751.0\n",
              "9            0.500          7883.0\n",
              "10           0.550          7883.0\n",
              "11           0.600         11220.0\n",
              "12           0.650         14286.0\n",
              "13           0.700         15821.0\n",
              "14           0.750         16520.0\n",
              "15           0.800         19664.0\n",
              "16           0.850         24131.0\n",
              "17           0.900         30806.0\n",
              "18           0.950         48589.0\n",
              "19           0.990        161302.0\n",
              "20           0.999        209457.0\n",
              "21           1.000        611645.0"
            ]
          },
          "metadata": {},
          "execution_count": 204
        }
      ]
    },
    {
      "cell_type": "markdown",
      "metadata": {
        "id": "fb9-JCi7Ky7k"
      },
      "source": [
        "# Risk under different correlation assumptions"
      ]
    },
    {
      "cell_type": "code",
      "metadata": {
        "id": "kc-eS7ENzHQv"
      },
      "source": [
        "quantiles = {'points': quantile_points}\n",
        "tail_risks = {'points': quantile_points}\n",
        "cdfs = {'x': support_vec}\n",
        "pmfs = {'x': support_vec}"
      ],
      "execution_count": null,
      "outputs": []
    },
    {
      "cell_type": "code",
      "metadata": {
        "id": "oMMkfXamXFct"
      },
      "source": [
        "def expected_tail_value(rv, quantile_point):\n",
        "    quantile_val = rv.ppf(quantile_point).astype(int)\n",
        "    tail_support = np.arange(quantile_val, rv.support_end+1)\n",
        "    tail_pmf = rv.pmf_vec[quantile_val:]\n",
        "    exp_val = np.sum(tail_support * tail_pmf) / np.sum(tail_pmf)\n",
        "    return exp_val"
      ],
      "execution_count": null,
      "outputs": []
    },
    {
      "cell_type": "code",
      "metadata": {
        "colab": {
          "base_uri": "https://localhost:8080/"
        },
        "id": "XpShedIZyrhb",
        "outputId": "835a1913-292b-4058-f8a7-386f73dee75d"
      },
      "source": [
        "for rho in [0,0.1,0.2,0.3,0.4,0.5,0.7,0.8,0.9]:\n",
        "    lrv = LFGPB(probs=df.pd,weights=df.lgd, rho=rho)\n",
        "    quantiles[f'quantile_rho_{rho}'] = lrv.ppf(quantile_points)\n",
        "    tail_risks[f'tail_exp_rho_{rho}'] = [expected_tail_value(rv, quantile_point) for quantile_point in quantile_points]\n",
        "    cdfs[f'cdf_rho_{rho}'] = lrv.cdf_vec\n",
        "    pmfs[f'pmf_rho_{rho}'] = lrv.pmf_vec\n",
        "    print(rho)"
      ],
      "execution_count": null,
      "outputs": [
        {
          "output_type": "stream",
          "text": [
            "0\n",
            "0.1\n",
            "0.2\n",
            "0.3\n",
            "0.4\n",
            "0.5\n",
            "0.7\n",
            "0.8\n",
            "0.9\n"
          ],
          "name": "stdout"
        }
      ]
    },
    {
      "cell_type": "code",
      "metadata": {
        "colab": {
          "base_uri": "https://localhost:8080/",
          "height": 723
        },
        "id": "1OdCFsSN0jtI",
        "outputId": "aee56a12-06a1-4f4b-fcee-1a3f8754eeab"
      },
      "source": [
        "quant_df = pd.DataFrame(quantiles)\n",
        "quant_df"
      ],
      "execution_count": null,
      "outputs": [
        {
          "output_type": "execute_result",
          "data": {
            "text/html": [
              "<div>\n",
              "<style scoped>\n",
              "    .dataframe tbody tr th:only-of-type {\n",
              "        vertical-align: middle;\n",
              "    }\n",
              "\n",
              "    .dataframe tbody tr th {\n",
              "        vertical-align: top;\n",
              "    }\n",
              "\n",
              "    .dataframe thead th {\n",
              "        text-align: right;\n",
              "    }\n",
              "</style>\n",
              "<table border=\"1\" class=\"dataframe\">\n",
              "  <thead>\n",
              "    <tr style=\"text-align: right;\">\n",
              "      <th></th>\n",
              "      <th>points</th>\n",
              "      <th>quantile_rho_0</th>\n",
              "      <th>quantile_rho_0.1</th>\n",
              "      <th>quantile_rho_0.2</th>\n",
              "      <th>quantile_rho_0.3</th>\n",
              "      <th>quantile_rho_0.4</th>\n",
              "      <th>quantile_rho_0.5</th>\n",
              "      <th>quantile_rho_0.7</th>\n",
              "      <th>quantile_rho_0.8</th>\n",
              "      <th>quantile_rho_0.9</th>\n",
              "    </tr>\n",
              "  </thead>\n",
              "  <tbody>\n",
              "    <tr>\n",
              "      <th>0</th>\n",
              "      <td>0.050</td>\n",
              "      <td>0.0</td>\n",
              "      <td>0.0</td>\n",
              "      <td>0.0</td>\n",
              "      <td>0.0</td>\n",
              "      <td>0.0</td>\n",
              "      <td>0.0</td>\n",
              "      <td>0.0</td>\n",
              "      <td>0.0</td>\n",
              "      <td>0.0</td>\n",
              "    </tr>\n",
              "    <tr>\n",
              "      <th>1</th>\n",
              "      <td>0.100</td>\n",
              "      <td>0.0</td>\n",
              "      <td>0.0</td>\n",
              "      <td>0.0</td>\n",
              "      <td>0.0</td>\n",
              "      <td>0.0</td>\n",
              "      <td>0.0</td>\n",
              "      <td>0.0</td>\n",
              "      <td>0.0</td>\n",
              "      <td>0.0</td>\n",
              "    </tr>\n",
              "    <tr>\n",
              "      <th>2</th>\n",
              "      <td>0.150</td>\n",
              "      <td>0.0</td>\n",
              "      <td>0.0</td>\n",
              "      <td>0.0</td>\n",
              "      <td>0.0</td>\n",
              "      <td>0.0</td>\n",
              "      <td>0.0</td>\n",
              "      <td>0.0</td>\n",
              "      <td>0.0</td>\n",
              "      <td>0.0</td>\n",
              "    </tr>\n",
              "    <tr>\n",
              "      <th>3</th>\n",
              "      <td>0.200</td>\n",
              "      <td>0.0</td>\n",
              "      <td>0.0</td>\n",
              "      <td>0.0</td>\n",
              "      <td>0.0</td>\n",
              "      <td>0.0</td>\n",
              "      <td>0.0</td>\n",
              "      <td>0.0</td>\n",
              "      <td>0.0</td>\n",
              "      <td>0.0</td>\n",
              "    </tr>\n",
              "    <tr>\n",
              "      <th>4</th>\n",
              "      <td>0.250</td>\n",
              "      <td>0.0</td>\n",
              "      <td>0.0</td>\n",
              "      <td>0.0</td>\n",
              "      <td>0.0</td>\n",
              "      <td>0.0</td>\n",
              "      <td>0.0</td>\n",
              "      <td>0.0</td>\n",
              "      <td>0.0</td>\n",
              "      <td>0.0</td>\n",
              "    </tr>\n",
              "    <tr>\n",
              "      <th>5</th>\n",
              "      <td>0.300</td>\n",
              "      <td>0.0</td>\n",
              "      <td>0.0</td>\n",
              "      <td>0.0</td>\n",
              "      <td>0.0</td>\n",
              "      <td>0.0</td>\n",
              "      <td>0.0</td>\n",
              "      <td>0.0</td>\n",
              "      <td>0.0</td>\n",
              "      <td>0.0</td>\n",
              "    </tr>\n",
              "    <tr>\n",
              "      <th>6</th>\n",
              "      <td>0.350</td>\n",
              "      <td>0.0</td>\n",
              "      <td>0.0</td>\n",
              "      <td>0.0</td>\n",
              "      <td>0.0</td>\n",
              "      <td>0.0</td>\n",
              "      <td>0.0</td>\n",
              "      <td>0.0</td>\n",
              "      <td>0.0</td>\n",
              "      <td>0.0</td>\n",
              "    </tr>\n",
              "    <tr>\n",
              "      <th>7</th>\n",
              "      <td>0.400</td>\n",
              "      <td>2023.0</td>\n",
              "      <td>0.0</td>\n",
              "      <td>0.0</td>\n",
              "      <td>0.0</td>\n",
              "      <td>0.0</td>\n",
              "      <td>0.0</td>\n",
              "      <td>0.0</td>\n",
              "      <td>0.0</td>\n",
              "      <td>0.0</td>\n",
              "    </tr>\n",
              "    <tr>\n",
              "      <th>8</th>\n",
              "      <td>0.450</td>\n",
              "      <td>7751.0</td>\n",
              "      <td>1857.0</td>\n",
              "      <td>0.0</td>\n",
              "      <td>0.0</td>\n",
              "      <td>0.0</td>\n",
              "      <td>0.0</td>\n",
              "      <td>0.0</td>\n",
              "      <td>0.0</td>\n",
              "      <td>0.0</td>\n",
              "    </tr>\n",
              "    <tr>\n",
              "      <th>9</th>\n",
              "      <td>0.500</td>\n",
              "      <td>7883.0</td>\n",
              "      <td>7883.0</td>\n",
              "      <td>1655.0</td>\n",
              "      <td>0.0</td>\n",
              "      <td>0.0</td>\n",
              "      <td>0.0</td>\n",
              "      <td>0.0</td>\n",
              "      <td>0.0</td>\n",
              "      <td>0.0</td>\n",
              "    </tr>\n",
              "    <tr>\n",
              "      <th>10</th>\n",
              "      <td>0.550</td>\n",
              "      <td>7883.0</td>\n",
              "      <td>7883.0</td>\n",
              "      <td>7883.0</td>\n",
              "      <td>1655.0</td>\n",
              "      <td>0.0</td>\n",
              "      <td>0.0</td>\n",
              "      <td>0.0</td>\n",
              "      <td>0.0</td>\n",
              "      <td>0.0</td>\n",
              "    </tr>\n",
              "    <tr>\n",
              "      <th>11</th>\n",
              "      <td>0.600</td>\n",
              "      <td>11220.0</td>\n",
              "      <td>9267.0</td>\n",
              "      <td>7883.0</td>\n",
              "      <td>7883.0</td>\n",
              "      <td>3039.0</td>\n",
              "      <td>0.0</td>\n",
              "      <td>0.0</td>\n",
              "      <td>0.0</td>\n",
              "      <td>0.0</td>\n",
              "    </tr>\n",
              "    <tr>\n",
              "      <th>12</th>\n",
              "      <td>0.650</td>\n",
              "      <td>14286.0</td>\n",
              "      <td>11781.0</td>\n",
              "      <td>9538.0</td>\n",
              "      <td>7883.0</td>\n",
              "      <td>7883.0</td>\n",
              "      <td>7883.0</td>\n",
              "      <td>0.0</td>\n",
              "      <td>0.0</td>\n",
              "      <td>0.0</td>\n",
              "    </tr>\n",
              "    <tr>\n",
              "      <th>13</th>\n",
              "      <td>0.700</td>\n",
              "      <td>15821.0</td>\n",
              "      <td>15821.0</td>\n",
              "      <td>14391.0</td>\n",
              "      <td>11781.0</td>\n",
              "      <td>9267.0</td>\n",
              "      <td>7883.0</td>\n",
              "      <td>0.0</td>\n",
              "      <td>0.0</td>\n",
              "      <td>0.0</td>\n",
              "    </tr>\n",
              "    <tr>\n",
              "      <th>14</th>\n",
              "      <td>0.750</td>\n",
              "      <td>16520.0</td>\n",
              "      <td>16292.0</td>\n",
              "      <td>16248.0</td>\n",
              "      <td>15821.0</td>\n",
              "      <td>14890.0</td>\n",
              "      <td>11220.0</td>\n",
              "      <td>7883.0</td>\n",
              "      <td>7883.0</td>\n",
              "      <td>0.0</td>\n",
              "    </tr>\n",
              "    <tr>\n",
              "      <th>15</th>\n",
              "      <td>0.800</td>\n",
              "      <td>19664.0</td>\n",
              "      <td>19664.0</td>\n",
              "      <td>19629.0</td>\n",
              "      <td>18175.0</td>\n",
              "      <td>16520.0</td>\n",
              "      <td>16248.0</td>\n",
              "      <td>9538.0</td>\n",
              "      <td>7883.0</td>\n",
              "      <td>7883.0</td>\n",
              "    </tr>\n",
              "    <tr>\n",
              "      <th>16</th>\n",
              "      <td>0.850</td>\n",
              "      <td>24131.0</td>\n",
              "      <td>24403.0</td>\n",
              "      <td>24679.0</td>\n",
              "      <td>24403.0</td>\n",
              "      <td>24131.0</td>\n",
              "      <td>23704.0</td>\n",
              "      <td>18285.0</td>\n",
              "      <td>15821.0</td>\n",
              "      <td>7883.0</td>\n",
              "    </tr>\n",
              "    <tr>\n",
              "      <th>17</th>\n",
              "      <td>0.900</td>\n",
              "      <td>30806.0</td>\n",
              "      <td>32971.0</td>\n",
              "      <td>34924.0</td>\n",
              "      <td>35899.0</td>\n",
              "      <td>36142.0</td>\n",
              "      <td>35501.0</td>\n",
              "      <td>32341.0</td>\n",
              "      <td>27602.0</td>\n",
              "      <td>23704.0</td>\n",
              "    </tr>\n",
              "    <tr>\n",
              "      <th>18</th>\n",
              "      <td>0.950</td>\n",
              "      <td>48589.0</td>\n",
              "      <td>55141.0</td>\n",
              "      <td>60967.0</td>\n",
              "      <td>67263.0</td>\n",
              "      <td>71581.0</td>\n",
              "      <td>74805.0</td>\n",
              "      <td>75004.0</td>\n",
              "      <td>70985.0</td>\n",
              "      <td>65739.0</td>\n",
              "    </tr>\n",
              "    <tr>\n",
              "      <th>19</th>\n",
              "      <td>0.990</td>\n",
              "      <td>161302.0</td>\n",
              "      <td>176174.0</td>\n",
              "      <td>183390.0</td>\n",
              "      <td>193515.0</td>\n",
              "      <td>207469.0</td>\n",
              "      <td>224971.0</td>\n",
              "      <td>273899.0</td>\n",
              "      <td>306663.0</td>\n",
              "      <td>345500.0</td>\n",
              "    </tr>\n",
              "    <tr>\n",
              "      <th>20</th>\n",
              "      <td>0.999</td>\n",
              "      <td>209457.0</td>\n",
              "      <td>230444.0</td>\n",
              "      <td>268201.0</td>\n",
              "      <td>331343.0</td>\n",
              "      <td>378343.0</td>\n",
              "      <td>432151.0</td>\n",
              "      <td>545515.0</td>\n",
              "      <td>588784.0</td>\n",
              "      <td>611645.0</td>\n",
              "    </tr>\n",
              "    <tr>\n",
              "      <th>21</th>\n",
              "      <td>1.000</td>\n",
              "      <td>611645.0</td>\n",
              "      <td>611645.0</td>\n",
              "      <td>611645.0</td>\n",
              "      <td>611645.0</td>\n",
              "      <td>611645.0</td>\n",
              "      <td>611645.0</td>\n",
              "      <td>611645.0</td>\n",
              "      <td>611645.0</td>\n",
              "      <td>611645.0</td>\n",
              "    </tr>\n",
              "  </tbody>\n",
              "</table>\n",
              "</div>"
            ],
            "text/plain": [
              "    points  quantile_rho_0  ...  quantile_rho_0.8  quantile_rho_0.9\n",
              "0    0.050             0.0  ...               0.0               0.0\n",
              "1    0.100             0.0  ...               0.0               0.0\n",
              "2    0.150             0.0  ...               0.0               0.0\n",
              "3    0.200             0.0  ...               0.0               0.0\n",
              "4    0.250             0.0  ...               0.0               0.0\n",
              "5    0.300             0.0  ...               0.0               0.0\n",
              "6    0.350             0.0  ...               0.0               0.0\n",
              "7    0.400          2023.0  ...               0.0               0.0\n",
              "8    0.450          7751.0  ...               0.0               0.0\n",
              "9    0.500          7883.0  ...               0.0               0.0\n",
              "10   0.550          7883.0  ...               0.0               0.0\n",
              "11   0.600         11220.0  ...               0.0               0.0\n",
              "12   0.650         14286.0  ...               0.0               0.0\n",
              "13   0.700         15821.0  ...               0.0               0.0\n",
              "14   0.750         16520.0  ...            7883.0               0.0\n",
              "15   0.800         19664.0  ...            7883.0            7883.0\n",
              "16   0.850         24131.0  ...           15821.0            7883.0\n",
              "17   0.900         30806.0  ...           27602.0           23704.0\n",
              "18   0.950         48589.0  ...           70985.0           65739.0\n",
              "19   0.990        161302.0  ...          306663.0          345500.0\n",
              "20   0.999        209457.0  ...          588784.0          611645.0\n",
              "21   1.000        611645.0  ...          611645.0          611645.0\n",
              "\n",
              "[22 rows x 10 columns]"
            ]
          },
          "metadata": {},
          "execution_count": 208
        }
      ]
    },
    {
      "cell_type": "code",
      "metadata": {
        "colab": {
          "base_uri": "https://localhost:8080/",
          "height": 723
        },
        "id": "qoeN5xA95ZRp",
        "outputId": "647ad563-7b7b-44f4-a47f-ee78bb27a70f"
      },
      "source": [
        "tail_df = pd.DataFrame(tail_risks)\n",
        "tail_df"
      ],
      "execution_count": null,
      "outputs": [
        {
          "output_type": "execute_result",
          "data": {
            "text/html": [
              "<div>\n",
              "<style scoped>\n",
              "    .dataframe tbody tr th:only-of-type {\n",
              "        vertical-align: middle;\n",
              "    }\n",
              "\n",
              "    .dataframe tbody tr th {\n",
              "        vertical-align: top;\n",
              "    }\n",
              "\n",
              "    .dataframe thead th {\n",
              "        text-align: right;\n",
              "    }\n",
              "</style>\n",
              "<table border=\"1\" class=\"dataframe\">\n",
              "  <thead>\n",
              "    <tr style=\"text-align: right;\">\n",
              "      <th></th>\n",
              "      <th>points</th>\n",
              "      <th>tail_exp_rho_0</th>\n",
              "      <th>tail_exp_rho_0.1</th>\n",
              "      <th>tail_exp_rho_0.2</th>\n",
              "      <th>tail_exp_rho_0.3</th>\n",
              "      <th>tail_exp_rho_0.4</th>\n",
              "      <th>tail_exp_rho_0.5</th>\n",
              "      <th>tail_exp_rho_0.7</th>\n",
              "      <th>tail_exp_rho_0.8</th>\n",
              "      <th>tail_exp_rho_0.9</th>\n",
              "    </tr>\n",
              "  </thead>\n",
              "  <tbody>\n",
              "    <tr>\n",
              "      <th>0</th>\n",
              "      <td>0.050</td>\n",
              "      <td>15289.789403</td>\n",
              "      <td>15289.789403</td>\n",
              "      <td>15289.789403</td>\n",
              "      <td>15289.789403</td>\n",
              "      <td>15289.789403</td>\n",
              "      <td>15289.789403</td>\n",
              "      <td>15289.789403</td>\n",
              "      <td>15289.789403</td>\n",
              "      <td>15289.789403</td>\n",
              "    </tr>\n",
              "    <tr>\n",
              "      <th>1</th>\n",
              "      <td>0.100</td>\n",
              "      <td>15289.789403</td>\n",
              "      <td>15289.789403</td>\n",
              "      <td>15289.789403</td>\n",
              "      <td>15289.789403</td>\n",
              "      <td>15289.789403</td>\n",
              "      <td>15289.789403</td>\n",
              "      <td>15289.789403</td>\n",
              "      <td>15289.789403</td>\n",
              "      <td>15289.789403</td>\n",
              "    </tr>\n",
              "    <tr>\n",
              "      <th>2</th>\n",
              "      <td>0.150</td>\n",
              "      <td>15289.789403</td>\n",
              "      <td>15289.789403</td>\n",
              "      <td>15289.789403</td>\n",
              "      <td>15289.789403</td>\n",
              "      <td>15289.789403</td>\n",
              "      <td>15289.789403</td>\n",
              "      <td>15289.789403</td>\n",
              "      <td>15289.789403</td>\n",
              "      <td>15289.789403</td>\n",
              "    </tr>\n",
              "    <tr>\n",
              "      <th>3</th>\n",
              "      <td>0.200</td>\n",
              "      <td>15289.789403</td>\n",
              "      <td>15289.789403</td>\n",
              "      <td>15289.789403</td>\n",
              "      <td>15289.789403</td>\n",
              "      <td>15289.789403</td>\n",
              "      <td>15289.789403</td>\n",
              "      <td>15289.789403</td>\n",
              "      <td>15289.789403</td>\n",
              "      <td>15289.789403</td>\n",
              "    </tr>\n",
              "    <tr>\n",
              "      <th>4</th>\n",
              "      <td>0.250</td>\n",
              "      <td>15289.789403</td>\n",
              "      <td>15289.789403</td>\n",
              "      <td>15289.789403</td>\n",
              "      <td>15289.789403</td>\n",
              "      <td>15289.789403</td>\n",
              "      <td>15289.789403</td>\n",
              "      <td>15289.789403</td>\n",
              "      <td>15289.789403</td>\n",
              "      <td>15289.789403</td>\n",
              "    </tr>\n",
              "    <tr>\n",
              "      <th>5</th>\n",
              "      <td>0.300</td>\n",
              "      <td>15289.789403</td>\n",
              "      <td>15289.789403</td>\n",
              "      <td>15289.789403</td>\n",
              "      <td>15289.789403</td>\n",
              "      <td>15289.789403</td>\n",
              "      <td>15289.789403</td>\n",
              "      <td>15289.789403</td>\n",
              "      <td>15289.789403</td>\n",
              "      <td>15289.789403</td>\n",
              "    </tr>\n",
              "    <tr>\n",
              "      <th>6</th>\n",
              "      <td>0.350</td>\n",
              "      <td>15289.789403</td>\n",
              "      <td>15289.789403</td>\n",
              "      <td>15289.789403</td>\n",
              "      <td>15289.789403</td>\n",
              "      <td>15289.789403</td>\n",
              "      <td>15289.789403</td>\n",
              "      <td>15289.789403</td>\n",
              "      <td>15289.789403</td>\n",
              "      <td>15289.789403</td>\n",
              "    </tr>\n",
              "    <tr>\n",
              "      <th>7</th>\n",
              "      <td>0.400</td>\n",
              "      <td>25121.990603</td>\n",
              "      <td>25121.990603</td>\n",
              "      <td>25121.990603</td>\n",
              "      <td>25121.990603</td>\n",
              "      <td>25121.990603</td>\n",
              "      <td>25121.990603</td>\n",
              "      <td>25121.990603</td>\n",
              "      <td>25121.990603</td>\n",
              "      <td>25121.990603</td>\n",
              "    </tr>\n",
              "    <tr>\n",
              "      <th>8</th>\n",
              "      <td>0.450</td>\n",
              "      <td>27285.150167</td>\n",
              "      <td>27285.150167</td>\n",
              "      <td>27285.150167</td>\n",
              "      <td>27285.150167</td>\n",
              "      <td>27285.150167</td>\n",
              "      <td>27285.150167</td>\n",
              "      <td>27285.150167</td>\n",
              "      <td>27285.150167</td>\n",
              "      <td>27285.150167</td>\n",
              "    </tr>\n",
              "    <tr>\n",
              "      <th>9</th>\n",
              "      <td>0.500</td>\n",
              "      <td>27288.755864</td>\n",
              "      <td>27288.755864</td>\n",
              "      <td>27288.755864</td>\n",
              "      <td>27288.755864</td>\n",
              "      <td>27288.755864</td>\n",
              "      <td>27288.755864</td>\n",
              "      <td>27288.755864</td>\n",
              "      <td>27288.755864</td>\n",
              "      <td>27288.755864</td>\n",
              "    </tr>\n",
              "    <tr>\n",
              "      <th>10</th>\n",
              "      <td>0.550</td>\n",
              "      <td>27288.755864</td>\n",
              "      <td>27288.755864</td>\n",
              "      <td>27288.755864</td>\n",
              "      <td>27288.755864</td>\n",
              "      <td>27288.755864</td>\n",
              "      <td>27288.755864</td>\n",
              "      <td>27288.755864</td>\n",
              "      <td>27288.755864</td>\n",
              "      <td>27288.755864</td>\n",
              "    </tr>\n",
              "    <tr>\n",
              "      <th>11</th>\n",
              "      <td>0.600</td>\n",
              "      <td>34311.987419</td>\n",
              "      <td>34311.987419</td>\n",
              "      <td>34311.987419</td>\n",
              "      <td>34311.987419</td>\n",
              "      <td>34311.987419</td>\n",
              "      <td>34311.987419</td>\n",
              "      <td>34311.987419</td>\n",
              "      <td>34311.987419</td>\n",
              "      <td>34311.987419</td>\n",
              "    </tr>\n",
              "    <tr>\n",
              "      <th>12</th>\n",
              "      <td>0.650</td>\n",
              "      <td>37474.232578</td>\n",
              "      <td>37474.232578</td>\n",
              "      <td>37474.232578</td>\n",
              "      <td>37474.232578</td>\n",
              "      <td>37474.232578</td>\n",
              "      <td>37474.232578</td>\n",
              "      <td>37474.232578</td>\n",
              "      <td>37474.232578</td>\n",
              "      <td>37474.232578</td>\n",
              "    </tr>\n",
              "    <tr>\n",
              "      <th>13</th>\n",
              "      <td>0.700</td>\n",
              "      <td>39219.312484</td>\n",
              "      <td>39219.312484</td>\n",
              "      <td>39219.312484</td>\n",
              "      <td>39219.312484</td>\n",
              "      <td>39219.312484</td>\n",
              "      <td>39219.312484</td>\n",
              "      <td>39219.312484</td>\n",
              "      <td>39219.312484</td>\n",
              "      <td>39219.312484</td>\n",
              "    </tr>\n",
              "    <tr>\n",
              "      <th>14</th>\n",
              "      <td>0.750</td>\n",
              "      <td>45779.311941</td>\n",
              "      <td>45779.311941</td>\n",
              "      <td>45779.311941</td>\n",
              "      <td>45779.311941</td>\n",
              "      <td>45779.311941</td>\n",
              "      <td>45779.311941</td>\n",
              "      <td>45779.311941</td>\n",
              "      <td>45779.311941</td>\n",
              "      <td>45779.311941</td>\n",
              "    </tr>\n",
              "    <tr>\n",
              "      <th>15</th>\n",
              "      <td>0.800</td>\n",
              "      <td>53244.117871</td>\n",
              "      <td>53244.117871</td>\n",
              "      <td>53244.117871</td>\n",
              "      <td>53244.117871</td>\n",
              "      <td>53244.117871</td>\n",
              "      <td>53244.117871</td>\n",
              "      <td>53244.117871</td>\n",
              "      <td>53244.117871</td>\n",
              "      <td>53244.117871</td>\n",
              "    </tr>\n",
              "    <tr>\n",
              "      <th>16</th>\n",
              "      <td>0.850</td>\n",
              "      <td>63757.093628</td>\n",
              "      <td>63757.093628</td>\n",
              "      <td>63757.093628</td>\n",
              "      <td>63757.093628</td>\n",
              "      <td>63757.093628</td>\n",
              "      <td>63757.093628</td>\n",
              "      <td>63757.093628</td>\n",
              "      <td>63757.093628</td>\n",
              "      <td>63757.093628</td>\n",
              "    </tr>\n",
              "    <tr>\n",
              "      <th>17</th>\n",
              "      <td>0.900</td>\n",
              "      <td>82307.628822</td>\n",
              "      <td>82307.628822</td>\n",
              "      <td>82307.628822</td>\n",
              "      <td>82307.628822</td>\n",
              "      <td>82307.628822</td>\n",
              "      <td>82307.628822</td>\n",
              "      <td>82307.628822</td>\n",
              "      <td>82307.628822</td>\n",
              "      <td>82307.628822</td>\n",
              "    </tr>\n",
              "    <tr>\n",
              "      <th>18</th>\n",
              "      <td>0.950</td>\n",
              "      <td>127129.501489</td>\n",
              "      <td>127129.501489</td>\n",
              "      <td>127129.501489</td>\n",
              "      <td>127129.501489</td>\n",
              "      <td>127129.501489</td>\n",
              "      <td>127129.501489</td>\n",
              "      <td>127129.501489</td>\n",
              "      <td>127129.501489</td>\n",
              "      <td>127129.501489</td>\n",
              "    </tr>\n",
              "    <tr>\n",
              "      <th>19</th>\n",
              "      <td>0.990</td>\n",
              "      <td>193076.567809</td>\n",
              "      <td>193076.567809</td>\n",
              "      <td>193076.567809</td>\n",
              "      <td>193076.567809</td>\n",
              "      <td>193076.567809</td>\n",
              "      <td>193076.567809</td>\n",
              "      <td>193076.567809</td>\n",
              "      <td>193076.567809</td>\n",
              "      <td>193076.567809</td>\n",
              "    </tr>\n",
              "    <tr>\n",
              "      <th>20</th>\n",
              "      <td>0.999</td>\n",
              "      <td>245526.070696</td>\n",
              "      <td>245526.070696</td>\n",
              "      <td>245526.070696</td>\n",
              "      <td>245526.070696</td>\n",
              "      <td>245526.070696</td>\n",
              "      <td>245526.070696</td>\n",
              "      <td>245526.070696</td>\n",
              "      <td>245526.070696</td>\n",
              "      <td>245526.070696</td>\n",
              "    </tr>\n",
              "    <tr>\n",
              "      <th>21</th>\n",
              "      <td>1.000</td>\n",
              "      <td>611645.000000</td>\n",
              "      <td>611645.000000</td>\n",
              "      <td>611645.000000</td>\n",
              "      <td>611645.000000</td>\n",
              "      <td>611645.000000</td>\n",
              "      <td>611645.000000</td>\n",
              "      <td>611645.000000</td>\n",
              "      <td>611645.000000</td>\n",
              "      <td>611645.000000</td>\n",
              "    </tr>\n",
              "  </tbody>\n",
              "</table>\n",
              "</div>"
            ],
            "text/plain": [
              "    points  tail_exp_rho_0  ...  tail_exp_rho_0.8  tail_exp_rho_0.9\n",
              "0    0.050    15289.789403  ...      15289.789403      15289.789403\n",
              "1    0.100    15289.789403  ...      15289.789403      15289.789403\n",
              "2    0.150    15289.789403  ...      15289.789403      15289.789403\n",
              "3    0.200    15289.789403  ...      15289.789403      15289.789403\n",
              "4    0.250    15289.789403  ...      15289.789403      15289.789403\n",
              "5    0.300    15289.789403  ...      15289.789403      15289.789403\n",
              "6    0.350    15289.789403  ...      15289.789403      15289.789403\n",
              "7    0.400    25121.990603  ...      25121.990603      25121.990603\n",
              "8    0.450    27285.150167  ...      27285.150167      27285.150167\n",
              "9    0.500    27288.755864  ...      27288.755864      27288.755864\n",
              "10   0.550    27288.755864  ...      27288.755864      27288.755864\n",
              "11   0.600    34311.987419  ...      34311.987419      34311.987419\n",
              "12   0.650    37474.232578  ...      37474.232578      37474.232578\n",
              "13   0.700    39219.312484  ...      39219.312484      39219.312484\n",
              "14   0.750    45779.311941  ...      45779.311941      45779.311941\n",
              "15   0.800    53244.117871  ...      53244.117871      53244.117871\n",
              "16   0.850    63757.093628  ...      63757.093628      63757.093628\n",
              "17   0.900    82307.628822  ...      82307.628822      82307.628822\n",
              "18   0.950   127129.501489  ...     127129.501489     127129.501489\n",
              "19   0.990   193076.567809  ...     193076.567809     193076.567809\n",
              "20   0.999   245526.070696  ...     245526.070696     245526.070696\n",
              "21   1.000   611645.000000  ...     611645.000000     611645.000000\n",
              "\n",
              "[22 rows x 10 columns]"
            ]
          },
          "metadata": {},
          "execution_count": 209
        }
      ]
    },
    {
      "cell_type": "code",
      "metadata": {
        "colab": {
          "base_uri": "https://localhost:8080/",
          "height": 414
        },
        "id": "mr1qUUUo5gFa",
        "outputId": "6f4a21cd-118f-45b1-8c9d-aa47e5ab44ca"
      },
      "source": [
        "cdf_df = pd.DataFrame(cdfs)\n",
        "cdf_df"
      ],
      "execution_count": null,
      "outputs": [
        {
          "output_type": "execute_result",
          "data": {
            "text/html": [
              "<div>\n",
              "<style scoped>\n",
              "    .dataframe tbody tr th:only-of-type {\n",
              "        vertical-align: middle;\n",
              "    }\n",
              "\n",
              "    .dataframe tbody tr th {\n",
              "        vertical-align: top;\n",
              "    }\n",
              "\n",
              "    .dataframe thead th {\n",
              "        text-align: right;\n",
              "    }\n",
              "</style>\n",
              "<table border=\"1\" class=\"dataframe\">\n",
              "  <thead>\n",
              "    <tr style=\"text-align: right;\">\n",
              "      <th></th>\n",
              "      <th>x</th>\n",
              "      <th>cdf_rho_0</th>\n",
              "      <th>cdf_rho_0.1</th>\n",
              "      <th>cdf_rho_0.2</th>\n",
              "      <th>cdf_rho_0.3</th>\n",
              "      <th>cdf_rho_0.4</th>\n",
              "      <th>cdf_rho_0.5</th>\n",
              "      <th>cdf_rho_0.7</th>\n",
              "      <th>cdf_rho_0.8</th>\n",
              "      <th>cdf_rho_0.9</th>\n",
              "    </tr>\n",
              "  </thead>\n",
              "  <tbody>\n",
              "    <tr>\n",
              "      <th>0</th>\n",
              "      <td>0.0</td>\n",
              "      <td>0.36457</td>\n",
              "      <td>0.430077</td>\n",
              "      <td>0.486907</td>\n",
              "      <td>0.53772</td>\n",
              "      <td>0.584071</td>\n",
              "      <td>0.626894</td>\n",
              "      <td>0.703758</td>\n",
              "      <td>0.737663</td>\n",
              "      <td>0.766556</td>\n",
              "    </tr>\n",
              "    <tr>\n",
              "      <th>1</th>\n",
              "      <td>1.0</td>\n",
              "      <td>0.36457</td>\n",
              "      <td>0.430077</td>\n",
              "      <td>0.486907</td>\n",
              "      <td>0.53772</td>\n",
              "      <td>0.584071</td>\n",
              "      <td>0.626894</td>\n",
              "      <td>0.703758</td>\n",
              "      <td>0.737663</td>\n",
              "      <td>0.766556</td>\n",
              "    </tr>\n",
              "    <tr>\n",
              "      <th>2</th>\n",
              "      <td>2.0</td>\n",
              "      <td>0.36457</td>\n",
              "      <td>0.430077</td>\n",
              "      <td>0.486907</td>\n",
              "      <td>0.53772</td>\n",
              "      <td>0.584071</td>\n",
              "      <td>0.626894</td>\n",
              "      <td>0.703758</td>\n",
              "      <td>0.737663</td>\n",
              "      <td>0.766556</td>\n",
              "    </tr>\n",
              "    <tr>\n",
              "      <th>3</th>\n",
              "      <td>3.0</td>\n",
              "      <td>0.36457</td>\n",
              "      <td>0.430077</td>\n",
              "      <td>0.486907</td>\n",
              "      <td>0.53772</td>\n",
              "      <td>0.584071</td>\n",
              "      <td>0.626894</td>\n",
              "      <td>0.703758</td>\n",
              "      <td>0.737663</td>\n",
              "      <td>0.766556</td>\n",
              "    </tr>\n",
              "    <tr>\n",
              "      <th>4</th>\n",
              "      <td>4.0</td>\n",
              "      <td>0.36457</td>\n",
              "      <td>0.430077</td>\n",
              "      <td>0.486907</td>\n",
              "      <td>0.53772</td>\n",
              "      <td>0.584071</td>\n",
              "      <td>0.626894</td>\n",
              "      <td>0.703758</td>\n",
              "      <td>0.737663</td>\n",
              "      <td>0.766556</td>\n",
              "    </tr>\n",
              "    <tr>\n",
              "      <th>...</th>\n",
              "      <td>...</td>\n",
              "      <td>...</td>\n",
              "      <td>...</td>\n",
              "      <td>...</td>\n",
              "      <td>...</td>\n",
              "      <td>...</td>\n",
              "      <td>...</td>\n",
              "      <td>...</td>\n",
              "      <td>...</td>\n",
              "      <td>...</td>\n",
              "    </tr>\n",
              "    <tr>\n",
              "      <th>611641</th>\n",
              "      <td>611641.0</td>\n",
              "      <td>1.00000</td>\n",
              "      <td>1.000000</td>\n",
              "      <td>1.000000</td>\n",
              "      <td>1.00000</td>\n",
              "      <td>1.000000</td>\n",
              "      <td>0.999998</td>\n",
              "      <td>0.999914</td>\n",
              "      <td>0.999640</td>\n",
              "      <td>0.998680</td>\n",
              "    </tr>\n",
              "    <tr>\n",
              "      <th>611642</th>\n",
              "      <td>611642.0</td>\n",
              "      <td>1.00000</td>\n",
              "      <td>1.000000</td>\n",
              "      <td>1.000000</td>\n",
              "      <td>1.00000</td>\n",
              "      <td>1.000000</td>\n",
              "      <td>0.999998</td>\n",
              "      <td>0.999914</td>\n",
              "      <td>0.999640</td>\n",
              "      <td>0.998680</td>\n",
              "    </tr>\n",
              "    <tr>\n",
              "      <th>611643</th>\n",
              "      <td>611643.0</td>\n",
              "      <td>1.00000</td>\n",
              "      <td>1.000000</td>\n",
              "      <td>1.000000</td>\n",
              "      <td>1.00000</td>\n",
              "      <td>1.000000</td>\n",
              "      <td>0.999998</td>\n",
              "      <td>0.999914</td>\n",
              "      <td>0.999640</td>\n",
              "      <td>0.998680</td>\n",
              "    </tr>\n",
              "    <tr>\n",
              "      <th>611644</th>\n",
              "      <td>611644.0</td>\n",
              "      <td>1.00000</td>\n",
              "      <td>1.000000</td>\n",
              "      <td>1.000000</td>\n",
              "      <td>1.00000</td>\n",
              "      <td>1.000000</td>\n",
              "      <td>0.999998</td>\n",
              "      <td>0.999914</td>\n",
              "      <td>0.999640</td>\n",
              "      <td>0.998680</td>\n",
              "    </tr>\n",
              "    <tr>\n",
              "      <th>611645</th>\n",
              "      <td>611645.0</td>\n",
              "      <td>1.00000</td>\n",
              "      <td>1.000000</td>\n",
              "      <td>1.000000</td>\n",
              "      <td>1.00000</td>\n",
              "      <td>1.000000</td>\n",
              "      <td>1.000000</td>\n",
              "      <td>1.000000</td>\n",
              "      <td>1.000000</td>\n",
              "      <td>1.000000</td>\n",
              "    </tr>\n",
              "  </tbody>\n",
              "</table>\n",
              "<p>611646 rows × 10 columns</p>\n",
              "</div>"
            ],
            "text/plain": [
              "               x  cdf_rho_0  cdf_rho_0.1  ...  cdf_rho_0.7  cdf_rho_0.8  cdf_rho_0.9\n",
              "0            0.0    0.36457     0.430077  ...     0.703758     0.737663     0.766556\n",
              "1            1.0    0.36457     0.430077  ...     0.703758     0.737663     0.766556\n",
              "2            2.0    0.36457     0.430077  ...     0.703758     0.737663     0.766556\n",
              "3            3.0    0.36457     0.430077  ...     0.703758     0.737663     0.766556\n",
              "4            4.0    0.36457     0.430077  ...     0.703758     0.737663     0.766556\n",
              "...          ...        ...          ...  ...          ...          ...          ...\n",
              "611641  611641.0    1.00000     1.000000  ...     0.999914     0.999640     0.998680\n",
              "611642  611642.0    1.00000     1.000000  ...     0.999914     0.999640     0.998680\n",
              "611643  611643.0    1.00000     1.000000  ...     0.999914     0.999640     0.998680\n",
              "611644  611644.0    1.00000     1.000000  ...     0.999914     0.999640     0.998680\n",
              "611645  611645.0    1.00000     1.000000  ...     1.000000     1.000000     1.000000\n",
              "\n",
              "[611646 rows x 10 columns]"
            ]
          },
          "metadata": {},
          "execution_count": 99
        }
      ]
    },
    {
      "cell_type": "code",
      "metadata": {
        "id": "SlNH9n7c00F4"
      },
      "source": [
        "quant_df.to_csv('quantiles_for_rho.csv')\n",
        "tail_df.to_csv('tail_risks_for_rho.csv')\n",
        "cdf_df.to_csv('cdf_for_rho.csv', index=False, sep='\\t')"
      ],
      "execution_count": null,
      "outputs": []
    },
    {
      "cell_type": "code",
      "metadata": {
        "colab": {
          "base_uri": "https://localhost:8080/",
          "height": 534
        },
        "id": "LOtA7ZtMogtP",
        "outputId": "8c26c429-d162-4d8d-d17f-028eaf1a4586"
      },
      "source": [
        "plt.plot(support_vec, cdf_df.cdf_rho_0, linewidth=0.8, label='rho = 0', color='blue')\n",
        "plt.plot(support_vec, cdf_df['cdf_rho_0.1'], linewidth=0.8, label='rho = 0.1', color='red')\n",
        "plt.plot(support_vec, cdf_df['cdf_rho_0.5'], linewidth=0.8, label='rho = 0.5', color='green')\n",
        "plt.plot(support_vec, cdf_df['cdf_rho_0.9'], linewidth=0.8, label='rho = 0.9', color='purple')\n",
        "plt.xscale('log')\n",
        "plt.tick_params(labelsize=14, direction='in')\n",
        "plt.grid(axis='both', linewidth=0.8)\n",
        "plt.xlim(left=1000, right=1e6)\n",
        "fig = plt.gcf()\n",
        "fig.set_size_inches(7, 7)\n",
        "ax = fig.gca()\n",
        "for axis in ['top','bottom','left','right']:\n",
        "    ax.spines[axis].set_linewidth(0.8)\n",
        "ax.legend(loc='lower right', fontsize=14)\n",
        "plt.xlabel(\"x\", fontsize=14)\n",
        "plt.ylabel(\"probability\", fontsize=14)\n",
        "plt.tight_layout(pad=0)\n",
        "plt.savefig('cdf_plot.pdf')\n",
        "plt.show()"
      ],
      "execution_count": null,
      "outputs": [
        {
          "output_type": "display_data",
          "data": {
            "image/png": "[encoded data removed]",
            "text/plain": [
              "<Figure size 504x504 with 1 Axes>"
            ]
          },
          "metadata": {
            "needs_background": "light"
          }
        }
      ]
    },
    {
      "cell_type": "code",
      "metadata": {
        "id": "nINV4C5Oq2nM"
      },
      "source": [
        "rv = GPB(probs = df.pd, weights = df.lgd)"
      ],
      "execution_count": null,
      "outputs": []
    },
    {
      "cell_type": "code",
      "metadata": {
        "id": "M0DBP5jV5_ew"
      },
      "source": [
        "CHUNK_SIZE = 1000\n",
        "support_vec_chunks = support_vec[::CHUNK_SIZE].astype(np.int32)"
      ],
      "execution_count": null,
      "outputs": []
    },
    {
      "cell_type": "code",
      "metadata": {
        "id": "tWVBVTXpyw5s"
      },
      "source": [
        "cdf_summary_00 = cdfs['cdf_rho_0'][support_vec_chunks]\n",
        "cdf_summary_01 = cdfs['cdf_rho_0.1'][support_vec_chunks]\n",
        "cdf_summary_05 = cdfs['cdf_rho_0.5'][support_vec_chunks]\n",
        "cdf_summary_09 = cdfs['cdf_rho_0.9'][support_vec_chunks]"
      ],
      "execution_count": null,
      "outputs": []
    },
    {
      "cell_type": "code",
      "metadata": {
        "id": "ND_6leU9zAUm"
      },
      "source": [
        "cdf_summary_00[0] = 0\n",
        "cdf_summary_01[0] = 0\n",
        "cdf_summary_05[0] = 0\n",
        "cdf_summary_09[0] = 0"
      ],
      "execution_count": null,
      "outputs": []
    },
    {
      "cell_type": "code",
      "metadata": {
        "id": "6dh3ErA8zDfd"
      },
      "source": [
        "pmf_summary_00 = np.diff(cdf_summary_00)\n",
        "pmf_summary_01 = np.diff(cdf_summary_01)\n",
        "pmf_summary_05 = np.diff(cdf_summary_05)\n",
        "pmf_summary_09 = np.diff(cdf_summary_09)"
      ],
      "execution_count": null,
      "outputs": []
    },
    {
      "cell_type": "code",
      "metadata": {
        "id": "LIJycbilzOUt"
      },
      "source": [
        "pmf_summary_support = support_vec_chunks[:-1]+CHUNK_SIZE/2"
      ],
      "execution_count": null,
      "outputs": []
    },
    {
      "cell_type": "code",
      "metadata": {
        "colab": {
          "base_uri": "https://localhost:8080/",
          "height": 534
        },
        "id": "ZpJ6mnYiqqyb",
        "outputId": "bd0c7ab2-7d75-4228-b843-5c993e059113"
      },
      "source": [
        "plt.plot(pmf_summary_support,pmf_summary_00, linewidth=1, label='rho = 0', color='blue')\n",
        "plt.plot(pmf_summary_support,pmf_summary_01, linewidth=1, label='rho = 0.1', color='red')\n",
        "plt.plot(pmf_summary_support,pmf_summary_05, linewidth=1, label='rho = 0.5', color='green')\n",
        "plt.plot(pmf_summary_support,pmf_summary_09, linewidth=1, label='rho = 0.9', color='purple')\n",
        "# plt.fill_between(support_vec,pmfs['pmf_rho_0.1'], linewidth=0.1, label='rho = 0', color='red')\n",
        "# plt.fill_between(support_vec,pmfs['pmf_rho_0.5'], linewidth=0.1, label='rho = 0', color='green')\n",
        "# plt.fill_between(support_vec,pmfs['pmf_rho_0.9'], linewidth=0.1, label='rho = 0', color='purple')\n",
        "#plt.plot(support_vec, cdf_df['cdf_rho_0.1'], linewidth=0.8, label='rho = 0.1', color='red')\n",
        "plt.xscale('log')\n",
        "plt.yscale('log')\n",
        "plt.tick_params(labelsize=14, direction='in')\n",
        "plt.grid(axis='both', linewidth=0.8)\n",
        "plt.xlim(left=1000, right=1e6)\n",
        "fig = plt.gcf()\n",
        "fig.set_size_inches(7, 7)\n",
        "ax = fig.gca()\n",
        "for axis in ['top','bottom','left','right']:\n",
        "    ax.spines[axis].set_linewidth(0.8)\n",
        "ax.legend(loc='lower left', fontsize=14)\n",
        "plt.xlabel(\"x\", fontsize=14)\n",
        "plt.ylabel(\"probability\", fontsize=14)\n",
        "plt.tight_layout(pad=0)\n",
        "plt.savefig('pmf_plot.pdf')\n",
        "plt.show()"
      ],
      "execution_count": null,
      "outputs": [
        {
          "output_type": "display_data",
          "data": {
            "image/png": "[encoded data removed]",
            "text/plain": [
              "<Figure size 504x504 with 1 Axes>"
            ]
          },
          "metadata": {
            "needs_background": "light"
          }
        }
      ]
    },
    {
      "cell_type": "markdown",
      "metadata": {
        "id": "Iz8x64JbKxTZ"
      },
      "source": [
        "# Change over Time"
      ]
    },
    {
      "cell_type": "code",
      "metadata": {
        "id": "Lylra39x9TW1"
      },
      "source": [
        "rv_prev = GPB(probs = df.pd_prev, weights = df.lgd_prev)"
      ],
      "execution_count": null,
      "outputs": []
    },
    {
      "cell_type": "code",
      "metadata": {
        "id": "q6c5JWzp9TW1"
      },
      "source": [
        "support_vec_prev = np.arange(0, rv_prev.support_end+1, dtype=np.float64)"
      ],
      "execution_count": null,
      "outputs": []
    },
    {
      "cell_type": "code",
      "metadata": {
        "colab": {
          "base_uri": "https://localhost:8080/",
          "height": 534
        },
        "id": "YfkfqvXiF5Gt",
        "outputId": "d71f774d-54d2-4f74-fe8b-f6203456be38"
      },
      "source": [
        "plt.plot(support_vec, rv.cdf_vec, linewidth=0.8, label='current cdf', color='blue')\n",
        "plt.plot(support_vec_prev, rv_prev.cdf_vec,  linewidth=0.8, label='previous cdf', color='red')\n",
        "plt.xscale('log')\n",
        "plt.tick_params(labelsize=14, direction='in')\n",
        "plt.grid(axis='both', linewidth=0.8)\n",
        "plt.xlim(left=1000, right=1e6)\n",
        "fig = plt.gcf()\n",
        "fig.set_size_inches(7, 7)\n",
        "ax = fig.gca()\n",
        "for axis in ['top','bottom','left','right']:\n",
        "    ax.spines[axis].set_linewidth(0.8)\n",
        "ax.legend(loc='lower right', fontsize=14)\n",
        "plt.xlabel(\"x\", fontsize=14)\n",
        "plt.ylabel(\"probability\", fontsize=14)\n",
        "plt.tight_layout(pad=0)\n",
        "plt.savefig('cdf_plot_change.pdf')\n",
        "plt.show()"
      ],
      "execution_count": null,
      "outputs": [
        {
          "output_type": "display_data",
          "data": {
            "image/png": "[encoded data removed]",
            "text/plain": [
              "<Figure size 504x504 with 1 Axes>"
            ]
          },
          "metadata": {
            "needs_background": "light"
          }
        }
      ]
    },
    {
      "cell_type": "code",
      "metadata": {
        "id": "O9CqYjMAHQZ9"
      },
      "source": [
        "cdf_summary_prev = rv_prev.cdf_vec[support_vec_chunks]\n",
        "cdf_summary_prev[0] = 0\n",
        "pmf_summary_prev = np.diff(cdf_summary_prev)"
      ],
      "execution_count": null,
      "outputs": []
    },
    {
      "cell_type": "code",
      "metadata": {
        "colab": {
          "base_uri": "https://localhost:8080/"
        },
        "id": "uJwi8NW0Hz2J",
        "outputId": "fd20b9e3-13fe-403f-b070-f36fc2ed6780"
      },
      "source": [
        "support_vec_chunks.shape"
      ],
      "execution_count": null,
      "outputs": [
        {
          "output_type": "execute_result",
          "data": {
            "text/plain": [
              "(612,)"
            ]
          },
          "metadata": {},
          "execution_count": 227
        }
      ]
    },
    {
      "cell_type": "code",
      "metadata": {
        "colab": {
          "base_uri": "https://localhost:8080/",
          "height": 534
        },
        "id": "os0trS8iHEd9",
        "outputId": "a4ecc4ec-affe-411f-c69d-d5c75f8527fe"
      },
      "source": [
        "plt.plot(support_vec_chunks[:-1], pmf_summary_00, linewidth=0.8, label='current pmf', color='blue')\n",
        "plt.plot(support_vec_chunks[:-1], pmf_summary_prev,  linewidth=0.8, label='previous pmf', color='red')\n",
        "plt.xscale('log')\n",
        "plt.yscale('log')\n",
        "plt.tick_params(labelsize=14, direction='in')\n",
        "plt.grid(axis='both', linewidth=0.8)\n",
        "plt.xlim(left=1000, right=1e6)\n",
        "fig = plt.gcf()\n",
        "fig.set_size_inches(7, 7)\n",
        "ax = fig.gca()\n",
        "for axis in ['top','bottom','left','right']:\n",
        "    ax.spines[axis].set_linewidth(0.8)\n",
        "ax.legend(loc='lower right', fontsize=14)\n",
        "plt.xlabel(\"x\", fontsize=14)\n",
        "plt.ylabel(\"probability\", fontsize=14)\n",
        "plt.tight_layout(pad=0)\n",
        "plt.savefig('pmf_plot_change.pdf')\n",
        "plt.show()"
      ],
      "execution_count": null,
      "outputs": [
        {
          "output_type": "display_data",
          "data": {
            "image/png": "[encoded data removed]",
            "text/plain": [
              "<Figure size 504x504 with 1 Axes>"
            ]
          },
          "metadata": {
            "needs_background": "light"
          }
        }
      ]
    },
    {
      "cell_type": "markdown",
      "metadata": {
        "id": "U3UR_JHe-R-g"
      },
      "source": [
        "# Explaining changes: example using 10% tail risk (i.e. expected value of worst 10% tail)"
      ]
    },
    {
      "cell_type": "code",
      "metadata": {
        "id": "iGmh8cVsPfKm"
      },
      "source": [
        "TAIL_POINT = 0.9"
      ],
      "execution_count": null,
      "outputs": []
    },
    {
      "cell_type": "code",
      "metadata": {
        "colab": {
          "base_uri": "https://localhost:8080/"
        },
        "id": "za5Ughz-PMQH",
        "outputId": "937ba6a6-de13-4734-a6ff-6daadc9fcca9"
      },
      "source": [
        "# Current Value\n",
        "tail_risk = expected_tail_value(rv, TAIL_POINT)\n",
        "tail_risk"
      ],
      "execution_count": null,
      "outputs": [
        {
          "output_type": "execute_result",
          "data": {
            "text/plain": [
              "82307.62882191273"
            ]
          },
          "metadata": {},
          "execution_count": 20
        }
      ]
    },
    {
      "cell_type": "code",
      "metadata": {
        "colab": {
          "base_uri": "https://localhost:8080/"
        },
        "id": "MiTSkIGpPMN7",
        "outputId": "7f525557-6f2b-4a89-ca6b-6bf35bbc609f"
      },
      "source": [
        "# Previous Value\n",
        "tail_risk_prev = expected_tail_value(GPB(probs=df.pd_prev, weights=df.lgd_prev), TAIL_POINT)\n",
        "tail_risk_prev"
      ],
      "execution_count": null,
      "outputs": [
        {
          "output_type": "execute_result",
          "data": {
            "text/plain": [
              "80836.6186690194"
            ]
          },
          "metadata": {},
          "execution_count": 21
        }
      ]
    },
    {
      "cell_type": "code",
      "metadata": {
        "colab": {
          "base_uri": "https://localhost:8080/"
        },
        "id": "VoXxNWktPMLC",
        "outputId": "f1328138-cd5f-4e3b-c1f5-c1631c20999f"
      },
      "source": [
        "# Change in tail risk to explain\n",
        "tail_risk - tail_risk_prev "
      ],
      "execution_count": null,
      "outputs": [
        {
          "output_type": "execute_result",
          "data": {
            "text/plain": [
              "1471.01015289333"
            ]
          },
          "metadata": {},
          "execution_count": 22
        }
      ]
    },
    {
      "cell_type": "code",
      "metadata": {
        "id": "_ulub1apoanM"
      },
      "source": [
        "def tail_risk(countries_probs, countries_weights, prev):\n",
        "    # return tail risk for a scenario\n",
        "    # if prev=True then scenario is specified by supplying a set of countries\n",
        "    # on the previous values, with the rest assumed to be on current values\n",
        "    # if prev=False then the scenario is specified by supplying a set of \n",
        "    # countries that have changed to current values with the rest assumed\n",
        "    # to still be on the previous values\n",
        "    \n",
        "    probs_mask = np.isin(df.country.values, list(countries_probs))\n",
        "    weights_mask = np.isin(df.country.values, list(countries_weights))\n",
        "    if prev:\n",
        "        probs = np.where(probs_mask, df.pd_prev, df.pd)\n",
        "        weights = np.where(weights_mask, df.lgd_prev, df.lgd)\n",
        "    else:\n",
        "        probs = np.where(probs_mask, df.pd, df.pd_prev)\n",
        "        weights = np.where(weights_mask, df.lgd, df.lgd_prev)\n",
        "    rv = GPB(probs, weights)\n",
        "    return expected_tail_value(rv, TAIL_POINT)"
      ],
      "execution_count": null,
      "outputs": []
    },
    {
      "cell_type": "code",
      "metadata": {
        "id": "rHg5K_L6klqD"
      },
      "source": [
        "def incremental_impacts(forwards = True):\n",
        "    # Calculate incremental impact of changing one element at a time until the \n",
        "    # full portfolio has changed\n",
        "    # At each point the next element to add is chosen based on the biggest impact\n",
        "    # of all potential elements to add\n",
        "    # If forwards is True then the portfolio starts with the old values and \n",
        "    # is incrementally changed to the new values\n",
        "    # If forwards is False then the portfolio starts with the new values and\n",
        "    # is incrementally changed back to the old values\n",
        "\n",
        "    # baseline set of countries\n",
        "    countries_baseline = set(df.country.values)\n",
        "\n",
        "    # Keep going while there are countries left to change\n",
        "    while countries_baseline:\n",
        "        # current tail with the extent portfolio\n",
        "        baseline_risk = tail_risk(countries_baseline, countries_baseline, forwards)\n",
        "\n",
        "        # Check each remaining element to see which provides the biggest change\n",
        "        impacts = {}\n",
        "        for country in countries_baseline:\n",
        "            putative_countries = countries_baseline - {country}\n",
        "            scenario_risk = tail_risk(putative_countries, putative_countries, forwards)\n",
        "            scenario_impact = baseline_risk - scenario_risk\n",
        "            impacts[country] = (abs(scenario_impact), scenario_impact)\n",
        "        \n",
        "        # Get the element that provides the biggest impact\n",
        "        biggest_impact_country = max(impacts, key=impacts.get)\n",
        "        putative_countries = countries_baseline - {biggest_impact_country}\n",
        "\n",
        "        # Get the impact of just changing the pd or the lgd alone\n",
        "        pd_change_impact = baseline_risk - tail_risk(putative_countries, countries_baseline, forwards)\n",
        "        lgd_change_impact = baseline_risk - tail_risk(countries_baseline, putative_countries, forwards)\n",
        "\n",
        "        # Calculate the cross effect of changing both together\n",
        "        total_change_impact = impacts[biggest_impact_country][1]\n",
        "        cross_change_impact = total_change_impact - pd_change_impact - lgd_change_impact\n",
        "        \n",
        "        # Flip impact sign if going forwards. After this a postive value will always\n",
        "        # Represent an increase in risk going forwards in time.\n",
        "\n",
        "        if forwards:\n",
        "            pd_change_impact *= -1\n",
        "            lgd_change_impact *= -1\n",
        "            total_change_impact *= -1\n",
        "            cross_change_impact *= -1\n",
        "\n",
        "        # output the results\n",
        "        print(biggest_impact_country, pd_change_impact, lgd_change_impact, cross_change_impact, total_change_impact, sep='\\t')\n",
        "\n",
        "        # remove lastest country from portfolio as already changed\n",
        "        countries_baseline -= {biggest_impact_country}        \n"
      ],
      "execution_count": null,
      "outputs": []
    },
    {
      "cell_type": "code",
      "metadata": {
        "colab": {
          "base_uri": "https://localhost:8080/"
        },
        "id": "JazmjaeCnKSA",
        "outputId": "21dbe199-4b7b-450d-964a-dd7320a684e3"
      },
      "source": [
        "incremental_impacts(forwards =True)"
      ],
      "execution_count": null,
      "outputs": [
        {
          "output_type": "stream",
          "text": [
            "China\t415.35061864502495\t1849.2764072976715\t38.43217680603266\t2303.059202748729\n",
            "Japan\t1834.0378835805604\t248.92378144571558\t50.53299975642585\t2133.494664782702\n",
            "United Kingdom\t-1779.9115148302517\t-10.559988656808855\t116.78665770526277\t-1673.6848457817978\n",
            "Turkey\t1778.3870089936972\t-6.604945398605196\t-16.85481782029092\t1754.9272457748011\n",
            "Brazil\t-1181.7626710743061\t-1369.126677299224\t1039.334788734559\t-1511.554559638971\n",
            "Mexico\t-209.33008546019846\t-389.4795401418087\t-47.06736086656747\t-645.8769864685746\n",
            "France\t508.998994530004\t-25.171625816597953\t-20.96383500167576\t462.86353371173027\n",
            "United States\t-384.175731256124\t8.587899484176887\t-0.23117168791941367\t-375.8190034598665\n",
            "Russia\t-0.27159183952608146\t-357.44432020124805\t46.98375283493078\t-310.73215920584335\n",
            "Spain\t-357.86565925103787\t-22.85845341057575\t36.72965097603446\t-343.99446168557915\n",
            "Canada\t-55.01789555441064\t-131.0894061268482\t-0.764903600604157\t-186.872205281863\n",
            "Netherlands\t-0.0\t415.77038577019994\t-0.0\t415.77038577019994\n",
            "Sweden\t-472.7888803943497\t-3.954312505244161\t3.589959366028779\t-473.15323353356507\n",
            "Hong Kong\t469.84560314983537\t4.868030920770252\t-2.7419243494223338\t471.9717097211833\n",
            "Greece\t-465.4149783488974\t-9.255050168198068\t4.298238680668874\t-470.3717898364266\n",
            "Indonesia\t203.5237127366854\t113.79516027402133\t-10.48555640365521\t306.83331660705153\n",
            "Italy\t-111.14756483724341\t-411.84817358045257\t238.79862225370016\t-284.1971161639958\n",
            "South Korea\t-43.75353220872057\t8.677362901493325\t-19.980572878441308\t-55.056742185668554\n",
            "Poland\t21.712197586210095\t85.34477250160126\t-6.901981816728949\t100.1549882710824\n",
            "Norway\t2.9900955998455174\t-178.19974427649868\t-4.517077976299333\t-179.7267266529525\n",
            "Australia\t177.36744842449843\t24.062896841729525\t-15.644093586233794\t185.78625167999417\n",
            "Portugal\t-185.85378002232756\t-4.864676198238158\t5.998908090376062\t-184.71954813018965\n",
            "Ireland\t-0.5454060191841563\t183.8670683887467\t0.5530949792737374\t183.87475734883628\n",
            "Austria\t0.02254871037439443\t-179.10929204786953\t0.6382909551321063\t-178.44845238236303\n",
            "Germany\t-0.0\t27.60650186939165\t-0.0\t27.60650186939165\n",
            "Belgium\t-0.5823067436285783\t-0.5218062222993467\t-0.0042995631956728175\t-1.1084125291235978\n",
            "Denmark\t1.4801464539195877\t-1.8088787648739526\t0.09777746947656851\t-0.23095484147779644\n",
            "New Zealand\t-0.5902719648729544\t0.7898043026943924\t0.015260048065101728\t0.2147923858865397\n"
          ],
          "name": "stdout"
        }
      ]
    },
    {
      "cell_type": "code",
      "metadata": {
        "colab": {
          "base_uri": "https://localhost:8080/"
        },
        "id": "bb5VKq1gokYl",
        "outputId": "b6e1a686-854f-41fa-9179-b0be3f53f10b"
      },
      "source": [
        "incremental_impacts(forwards =False)"
      ],
      "execution_count": null,
      "outputs": [
        {
          "output_type": "stream",
          "text": [
            "China\t1509.0133026536496\t1942.8980843902536\t-77.96876055355824\t3373.942626490345\n",
            "Brazil\t-754.8543098605005\t-2090.5748140877695\t890.623996461014\t-1954.805127487256\n",
            "Mexico\t-549.6659019115032\t499.4226184809959\t-701.7934364232351\t-752.0367198537424\n",
            "Japan\t1063.0723792988283\t300.4930425717466\t-46.76050065580057\t1316.8049212147744\n",
            "Russia\t144.43818222248228\t517.3707774028444\t-1581.4932882136345\t-919.6843285883078\n",
            "Turkey\t1366.6651060172735\t12.480757438024739\t0.9500025624583941\t1380.0958660177566\n",
            "South Korea\t-1299.0827593710856\t3.4581972267769743\t2.6925186045118608\t-1292.9320435397967\n",
            "France\t1220.9204102814401\t-35.183698596898466\t27.2045262210886\t1212.9412379056303\n",
            "United Kingdom\t-1207.1324249458266\t69.20170482157846\t-56.387416436948115\t-1194.3181365611963\n",
            "Indonesia\t120.39942221085948\t125.96141941938549\t13.18244470882928\t259.54328633907426\n",
            "United States\t-266.32142898082384\t8.278359208488837\t0.2090671062032925\t-257.8340026661317\n",
            "Spain\t129.44117943113088\t61.796464895727695\t11.480020699207671\t202.71766502606624\n",
            "Canada\t-56.69329130477854\t-37.980921051086625\t1.1307973347429652\t-93.5434150211222\n",
            "Italy\t102.655888648791\t-29.049957836134126\t-0.8181735279358691\t72.78775728472101\n",
            "Australia\t-22.340869579653372\t60.05053538340144\t-3.648594151585712\t34.061071652162354\n",
            "Poland\t26.83787858292635\t2.559701710822992\t0.1492877882119501\t29.546868081961293\n",
            "Portugal\t7.3713058731664205\t17.732148172755842\t1.5709515996277332\t26.674405645549996\n",
            "Germany\t0.0\t17.038032617099816\t0.0\t17.038032617099816\n",
            "Sweden\t15.532225946328253\t-3.3065298407891532\t-0.9124272457847837\t11.313268859754317\n",
            "Hong Kong\t-11.098202943307115\t-0.11938336688035633\t0.009716810265672393\t-11.207869499921799\n",
            "Greece\t11.636646486294921\t-3.510226041136775\t-0.18756543146446347\t7.938855013693683\n",
            "Norway\t-1.807628099923022\t-1.2226958246610593\t0.04681488270580303\t-2.9835090418782784\n",
            "Netherlands\t0.0\t2.7623040299804416\t0.0\t2.7623040299804416\n",
            "Denmark\t1.9652050761214923\t0.30204175238031894\t0.017294459568802267\t2.2845412880706135\n",
            "New Zealand\t-0.868313193495851\t0.057169518040609546\t-0.0011007528810296208\t-0.8122444283362711\n",
            "Austria\t0.5942536644724896\t-0.04550348548218608\t-0.0005659049784298986\t0.5481842740118736\n",
            "Belgium\t-0.6197856567596318\t1.2078987957793288\t-0.009842354309512302\t0.5782707847101847\n",
            "Ireland\t-0.4376529602595838\t0.02625312870077323\t-0.00021311278396751732\t-0.41161294434277806\n"
          ],
          "name": "stdout"
        }
      ]
    },
    {
      "cell_type": "code",
      "metadata": {
        "colab": {
          "base_uri": "https://localhost:8080/"
        },
        "id": "1fTcsuY0tuFj",
        "outputId": "c237a735-0ff0-4fdf-f766-d1e22d09f2b4"
      },
      "source": [
        "for country in df.country:\n",
        "    mask = df.country == country\n",
        "    pd = df.pd[mask].values[0]\n",
        "    pd_delta = pd - df.pd_prev[mask].values[0]\n",
        "    inv = df.investment[mask].values[0]\n",
        "    inv_delta = inv - df.investment_prev[mask].values[0]\n",
        "    print(country.replace(' ','_'), pd, pd_delta, inv, inv_delta, sep='\\t')"
      ],
      "execution_count": null,
      "outputs": [
        {
          "output_type": "stream",
          "text": [
            "Denmark\t0.006376\t-0.0003649999999999999\t5182.48\t193.94999999999982\n",
            "Sweden\t0.00725\t-0.0020099999999999988\t7854.01\t285.6999999999998\n",
            "United_Kingdom\t0.007734\t-0.005288999999999998\t39532.85\t-817.2000000000044\n",
            "Austria\t0.008268000000000001\t-0.00010199999999999966\t6262.77\t-79.77999999999975\n",
            "United_States\t0.00837\t-0.0002289999999999983\t305649.64\t166.54000000003725\n",
            "Germany\t0.008684\t0.0\t55562.04\t531.4700000000012\n",
            "Netherlands\t0.008768999999999999\t0.0\t13313.87\t386.46000000000095\n",
            "Norway\t0.008853\t0.000338999999999999\t5284.67\t-502.0199999999995\n",
            "Belgium\t0.010378\t8.5e-05\t7518.25\t-78.5600000000004\n",
            "Ireland\t0.012322\t8.400000000000074e-05\t6116.79\t429.8699999999999\n",
            "Australia\t0.0132\t0.0008190000000000003\t19430.66\t-480.6899999999987\n",
            "New_Zealand\t0.013335\t0.00025299999999999975\t3094.89\t116.02999999999975\n",
            "South_Korea\t0.014969999999999999\t-0.005602000000000001\t23810.22\t335.6399999999994\n",
            "Japan\t0.015105\t0.0021920000000000012\t73941.61\t3318.3300000000017\n",
            "France\t0.017628\t0.004124000000000003\t38000.0\t-710.9599999999991\n",
            "Portugal\t0.024325\t-0.0021670000000000023\t3372.26\t-48.4399999999996\n",
            "Spain\t0.024993\t-0.004906000000000001\t18700.73\t-1153.6100000000006\n",
            "Hong_Kong\t0.027157999999999998\t0.0020820000000000005\t5065.69\t-150.8800000000001\n",
            "China\t0.028495999999999997\t0.0007729999999999959\t214934.31\t11402.429999999993\n",
            "Canada\t0.031805\t0.0009939999999999984\t23985.4\t-843.2099999999991\n",
            "Poland\t0.033955\t-0.0019810000000000036\t8671.53\t176.78000000000065\n",
            "Indonesia\t0.058986000000000004\t-0.006671000000000003\t15445.26\t-503.77000000000044\n",
            "Italy\t0.060353\t-0.0015249999999999986\t27532.85\t-1044.2800000000025\n",
            "Greece\t0.061315999999999996\t-0.0032859999999999973\t2759.12\t-162.73000000000002\n",
            "Russia\t0.055332000000000006\t-0.0025620000000000018\t21664.23\t-2380.470000000001\n",
            "Mexico\t0.05980599999999999\t-0.005048000000000004\t15708.03\t-2378.9400000000005\n",
            "Brazil\t0.113434\t-0.011030000000000012\t21094.89\t-5672.119999999999\n",
            "Turkey\t0.219856\t0.03625400000000001\t10510.95\t-335.52999999999884\n"
          ],
          "name": "stdout"
        }
      ]
    },
    {
      "cell_type": "code",
      "metadata": {
        "id": "fdZdyK5W-yQI"
      },
      "source": [
        ""
      ],
      "execution_count": null,
      "outputs": []
    }
  ]
}