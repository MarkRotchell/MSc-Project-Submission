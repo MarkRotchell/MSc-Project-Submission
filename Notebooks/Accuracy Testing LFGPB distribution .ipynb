{
  "nbformat": 4,
  "nbformat_minor": 0,
  "metadata": {
    "colab": {
      "name": "Project LFGPB accuracy testing.ipynb",
      "provenance": [],
      "collapsed_sections": []
    },
    "kernelspec": {
      "name": "python3",
      "display_name": "Python 3"
    },
    "language_info": {
      "name": "python"
    }
  },
  "cells": [
    {
      "cell_type": "code",
      "metadata": {
        "colab": {
          "base_uri": "https://localhost:8080/"
        },
        "id": "7DCv8R46YLym",
        "outputId": "ea3a12f6-8dad-4165-9314-a7c7bb8d164a"
      },
      "source": [
        "!pip install '/content/pyGPB-0.0.1.tar.gz'"
      ],
      "execution_count": null,
      "outputs": [
        {
          "output_type": "stream",
          "text": [
            "Processing ./pyGPB-0.0.1.tar.gz\n",
            "Requirement already satisfied: numba in /usr/local/lib/python3.7/dist-packages (from pyGPB==0.0.1) (0.51.2)\n",
            "Requirement already satisfied: numpy in /usr/local/lib/python3.7/dist-packages (from pyGPB==0.0.1) (1.19.5)\n",
            "Requirement already satisfied: scipy in /usr/local/lib/python3.7/dist-packages (from pyGPB==0.0.1) (1.4.1)\n",
            "Requirement already satisfied: llvmlite<0.35,>=0.34.0.dev0 in /usr/local/lib/python3.7/dist-packages (from numba->pyGPB==0.0.1) (0.34.0)\n",
            "Requirement already satisfied: setuptools in /usr/local/lib/python3.7/dist-packages (from numba->pyGPB==0.0.1) (57.4.0)\n",
            "Building wheels for collected packages: pyGPB\n",
            "  Building wheel for pyGPB (setup.py) ... \u001b[?25l\u001b[?25hdone\n",
            "  Created wheel for pyGPB: filename=pyGPB-0.0.1-py3-none-any.whl size=11720 sha256=5d31656310a406a2cd3611d481970c73038bedf210caa51aa6893198601cb9fe\n",
            "  Stored in directory: /root/.cache/pip/wheels/18/9e/73/f0be66f2d221d99a8ecad80a5f64821626f2a6c13e8f039eab\n",
            "Successfully built pyGPB\n",
            "Installing collected packages: pyGPB\n",
            "Successfully installed pyGPB-0.0.1\n"
          ],
          "name": "stdout"
        }
      ]
    },
    {
      "cell_type": "code",
      "metadata": {
        "id": "ZVTQfS3lYPTO"
      },
      "source": [
        "from pyGPB import LFGPB"
      ],
      "execution_count": null,
      "outputs": []
    },
    {
      "cell_type": "code",
      "metadata": {
        "id": "k0xEa9v3hDNJ"
      },
      "source": [
        "from scipy.stats import multivariate_normal as mvn\n",
        "from scipy.stats import norm\n",
        "from scipy.special import ndtri as norm_ppf, ndtr as norm_cdf\n",
        "from scipy.linalg import solve\n",
        "from scipy.integrate import quad, quad_vec\n",
        "\n",
        "from math import sqrt, pi, exp, erf\n",
        "\n",
        "from itertools import combinations, chain, product\n",
        "import numpy as np\n",
        "import pickle\n",
        "import numba\n",
        "import timeit"
      ],
      "execution_count": null,
      "outputs": []
    },
    {
      "cell_type": "markdown",
      "metadata": {
        "id": "Pb_gPUkfcvZn"
      },
      "source": [
        "## Common Functions"
      ]
    },
    {
      "cell_type": "code",
      "metadata": {
        "id": "bSFePin_c48q"
      },
      "source": [
        "def powerset(iterable):\n",
        "    \"powerset([1,2,3]) --> () (1,) (2,) (3,) (1,2) (1,3) (2,3) (1,2,3)\"\n",
        "    s = list(iterable)\n",
        "    return chain.from_iterable(combinations(s, r) for r in range(len(s)+1))"
      ],
      "execution_count": null,
      "outputs": []
    },
    {
      "cell_type": "markdown",
      "metadata": {
        "id": "h-KmpXBP2htU"
      },
      "source": [
        "## Custom Multivariate CDF Computation"
      ]
    },
    {
      "cell_type": "code",
      "metadata": {
        "id": "4wa43V3J1kbc"
      },
      "source": [
        "@numba.vectorize([\"float64(float64)\"])\n",
        "def vec_cdf(z):\n",
        "    # vectorized version of the standard normal cdf\n",
        "    return 0.5 * (1+erf(z/1.4142135623730950))"
      ],
      "execution_count": null,
      "outputs": []
    },
    {
      "cell_type": "markdown",
      "metadata": {
        "id": "hmZKu_CV6yXJ"
      },
      "source": [
        "Implements the following result for the multivariate normal cdf where the correlation matrix is $\\rho$ everywhere (expect 1s on the diagonal)\n",
        "$\\mathsf{F}(\\mathcal{S}, \\rho) = \\int_{-\\infty}^{\\infty} \\phi(u) \\prod_{i\\in\\mathcal{S}} \\Phi\\left(\\frac{\\Phi^{-1}(p_i)-u\\sqrt{\\rho}}{\\sqrt{1-\\rho}}\\right) \\mathrm{d}{u}$"
      ]
    },
    {
      "cell_type": "code",
      "metadata": {
        "id": "Qbwp54KMue5Y"
      },
      "source": [
        "@numba.cfunc(\"float64(float64, float64[:], float64)\")\n",
        "def integrand(u, z_values, rho):\n",
        "    # Integrand of the above formual\n",
        "    return vec_cdf((z_values-sqrt(rho)*u)/sqrt(1-rho)).prod() * exp(-u**2/2)/2.5066282746310005"
      ],
      "execution_count": null,
      "outputs": []
    },
    {
      "cell_type": "code",
      "metadata": {
        "id": "H7cFSzh7ED8D"
      },
      "source": [
        "def multi_norm_cdf_vec_all_rho(z_values_vec, rho):\n",
        "    # Numerical Integration of above formula\n",
        "    return np.array([quad(integrand,-np.inf, np.inf, args=(z_values, rho))[0] for z_values in np.atleast_2d(z_values_vec)])"
      ],
      "execution_count": null,
      "outputs": []
    },
    {
      "cell_type": "markdown",
      "metadata": {
        "id": "nP_NK01NcgqQ"
      },
      "source": [
        "## Linear Algebra Approach"
      ]
    },
    {
      "cell_type": "markdown",
      "metadata": {
        "id": "Xqqg7-ov7ZhB"
      },
      "source": [
        "Enumerates all outcomes and aggregates, similar to naive brute-force approach to the GPB, but requires extra maths to calculate the outcome probabilities. They are acheived by solving the following equation\n",
        "$\\mathbf{A} \\overset{o}{\\boldsymbol{p}} = \\overset{e}{\\boldsymbol{p}}$"
      ]
    },
    {
      "cell_type": "markdown",
      "metadata": {
        "id": "ccIRJpGy7wWX"
      },
      "source": [
        "$\t\\begin{bmatrix} 1 & 1 & 1 & 1 & 1 & 1 & 1 & 1 \\\\\n",
        "\t\t & 1 & 0 & 0 & 1 & 1 & 0 & 1 \\\\\n",
        "\t\t &  & 1 & 0 & 1 & 0 & 1 & 1 \\\\\n",
        "\t\t &  &  & 1 & 0 & 1 & 1 & 1 \\\\\n",
        "\t\t &  &  &  & 1 & 0 & 0 & 1 \\\\\n",
        "\t\t &  &  &  &  & 1 & 0 & 1 \\\\\n",
        "\t\t &  &  &  &  &  & 1 & 1 \\\\\n",
        "\t\t &  &  &  &  &  &  & 1\n",
        "\t \\end{bmatrix}\t\n",
        "\t\\begin{bmatrix}op_\\emptyset\t\\\\ op_0\t\\\\ op_1\t\\\\ op_2\t\\\\ op_{01} \\\\ op_{02} \\\\ op_{12} \\\\ op_{012} \\end{bmatrix}= \n",
        "\t\\begin{bmatrix}ep_\\emptyset\t\\\\ ep_0\t\\\\ ep_1\t\\\\ ep_2\t\\\\ ep_{01} \\\\ ep_{02} \\\\ ep_{12} \\\\ ep_{012} \\end{bmatrix}\n",
        "$"
      ]
    },
    {
      "cell_type": "markdown",
      "metadata": {
        "id": "AB892nMv8I4g"
      },
      "source": [
        "$\t\tA_{i,j} = \\begin{cases} \n",
        "\t\t\t1 & \\text{if } \\mathsf{Pow}(M)_i \\subseteq \\mathsf{Pow}(M)_j \\\\\n",
        "\t\t\t0 & \\mathrm{otherwise} \n",
        "\t\t\\end{cases} $"
      ]
    },
    {
      "cell_type": "code",
      "metadata": {
        "id": "98oSEU-uGZlY"
      },
      "source": [
        "def LFGPB_linalg(probs, weights, rho):\n",
        "    # Length of problem\n",
        "    M = len(probs)\n",
        "    \n",
        "    # Powerset of integers upto M, used several times in different circumstances\n",
        "    power_set = list(chain.from_iterable(combinations(range(M), r) for r in range(M+1)))\n",
        "\n",
        "    # z values for the success probs\n",
        "    z_values_for_probs = norm_ppf(probs)\n",
        "\n",
        "    # z values for the combined success events. Each row some combination event of succeses\n",
        "    z_events = np.array([[np.inf if x not in successes else z_values_for_probs[x] for x in range(M)] for successes in power_set])\n",
        "    \n",
        "    # event probabilities corresponding to the combinations of z_events\n",
        "    event_probs = multi_norm_cdf_vec_all_rho(z_events, rho)\n",
        "\n",
        "    # interaction matrix between events and outcomes\n",
        "    interaction = np.array([[all(x in z for x in y)*1 for z in power_set] for y in power_set])\n",
        "    \n",
        "    # outcome scenarios\n",
        "    outcome_probs = solve(interaction, event_probs)\n",
        "    outcome_weights = np.array([weights[list(outcome)].sum() for outcome in powerset(range(M))])\n",
        "\n",
        "    # support of the pmf\n",
        "    support_start = outcome_weights.min()\n",
        "    support_end = outcome_weights.max()\n",
        "    support_vector = range(support_start,support_end+1)\n",
        "\n",
        "    # aggregate outcomes to form pmf\n",
        "    pmf = np.array([sum(p for p, w in zip(outcome_probs, outcome_weights) if w==x) for x in support_vector])\n",
        "\n",
        "    return pmf"
      ],
      "execution_count": null,
      "outputs": []
    },
    {
      "cell_type": "markdown",
      "metadata": {
        "id": "oqnp-27T86FD"
      },
      "source": [
        "## Testing using Linear Algebra approach"
      ]
    },
    {
      "cell_type": "code",
      "metadata": {
        "colab": {
          "base_uri": "https://localhost:8080/"
        },
        "id": "iyCWJGeiGr-x",
        "outputId": "9af2579d-8a84-4581-9f9a-0cc4229316db"
      },
      "source": [
        "for M in range(2, 11):\n",
        "    # Test for M in the range {2, 3, ..., 10}\n",
        "    MAEs = []\n",
        "    TAEs = []\n",
        "    for test_id in range(32):\n",
        "        # For each M generate 32 random examples\n",
        "        probs = np.random.random(M)\n",
        "        weights = np.random.randint(1,20,M)\n",
        "        rho = float(np.random.random(1))\n",
        "\n",
        "        # Implementation by quadrature\n",
        "        ours = LFGPB(probs=probs, weights=weights, rho=rho).cdf_vec\n",
        "\n",
        "        # Linear Algebra approach\n",
        "        theirs = LFGPB_linalg(probs=probs, weights=weights, rho=rho).cumsum()\n",
        "\n",
        "        # Calculate Errors\n",
        "        abs_errs = np.abs(ours-theirs)\n",
        "        MAE = abs_errs.max()\n",
        "        TAE = abs_errs.sum()\n",
        "        MAEs.append(MAE)\n",
        "        TAEs.append(TAE)\n",
        "        \n",
        "    print(M, np.array(MAEs).mean(), np.array(MAEs).std() , np.array(TAEs).mean(), np.array(TAEs).std())"
      ],
      "execution_count": null,
      "outputs": [
        {
          "output_type": "stream",
          "text": [
            "2 6.212738656863337e-14 7.364197591116918e-14 9.205905894364708e-13 8.179278786775723e-13\n",
            "3 4.4811946037573436e-13 1.6132762373994808e-12 2.1292857613815913e-12 4.838982440895213e-12\n",
            "4 7.504571982830215e-14 1.3378654780753717e-13 1.0302035730703563e-12 1.2031560572589675e-12\n",
            "5 1.1586712085663933e-13 1.6939161753890047e-13 1.3129069161596334e-12 1.040235097018335e-12\n",
            "6 6.232319144810518e-13 2.664130126380249e-12 5.614712072894387e-12 2.1410358188700128e-11\n",
            "7 3.380555070088293e-09 1.8819987388105846e-08 7.436742550924762e-08 4.140407295253298e-07\n",
            "8 4.3428300045738125e-11 2.405751695782582e-10 7.904524846525003e-10 4.378536474277881e-09\n",
            "9 4.1777307209099526e-10 2.3091054505324817e-09 6.694060499241563e-09 3.69477765681377e-08\n",
            "10 1.7407401448548935e-08 9.422785949982679e-08 4.873424608960252e-07 2.6807971290924493e-06\n"
          ],
          "name": "stdout"
        }
      ]
    },
    {
      "cell_type": "code",
      "metadata": {
        "id": "N5c1RR9nokvb"
      },
      "source": [
        ""
      ],
      "execution_count": null,
      "outputs": []
    },
    {
      "cell_type": "markdown",
      "metadata": {
        "id": "du8jFEWmolPF"
      },
      "source": [
        "# Testing LFGPB Using Higher Order Moments"
      ]
    },
    {
      "cell_type": "markdown",
      "metadata": {
        "id": "Px_XAf6cE3vo"
      },
      "source": [
        "### Functions for Calculating moments"
      ]
    },
    {
      "cell_type": "code",
      "metadata": {
        "id": "ApQNGwBoBPSU"
      },
      "source": [
        "def joint_success_probs_upto_n(probs, rho, n):\n",
        "    # Generate a dictionary of the joint success probabilites of all combinations\n",
        "    # Of elements upto combinations of size n (inclusive)\n",
        "\n",
        "    # Dictionary is a mapping from a tuple of sorted indices to a probability\n",
        "    M = probs.shape[0]\n",
        "    \n",
        "    # Trivial case of no successes\n",
        "    joint_probs = {():1.0}\n",
        "\n",
        "    # Trivial case of one success\n",
        "    joint_probs.update({(i,):p for i, p in enumerate(probs)})\n",
        "    z_values_for_probs = norm_ppf(probs)\n",
        "\n",
        "    # Cases for n > 2\n",
        "    for k in range(2,n+1):\n",
        "        combination_index_tuples = list(combinations(range(M), k))\n",
        "        z_values = z_values_for_probs[np.array(combination_index_tuples)]\n",
        "        k_probs = multi_norm_cdf_vec_all_rho(z_values, rho)\n",
        "        joint_probs.update({i:p for i, p in zip(combination_index_tuples, k_probs)})\n",
        "\n",
        "    return joint_probs"
      ],
      "execution_count": null,
      "outputs": []
    },
    {
      "cell_type": "markdown",
      "metadata": {
        "id": "9JiEjG0C-tfT"
      },
      "source": [
        "$\t\t\t\\mathrm{Co}n(\\mathcal{V}_{\\boldsymbol{s}}) = \\left[\\prod_{i \\in \\boldsymbol{s}} w_i \\right]  \\sum_{\\boldsymbol{t} \\subseteq \\boldsymbol{s}} \\left[(-1)^{n-|{\\boldsymbol{t}}|} \\cdot \\mathsf{F}(\\mathrm{Supp}(\\boldsymbol{t}), \\rho)  \\prod_{j \\in \\boldsymbol{s} / \\boldsymbol{t}} p_j \\right]$"
      ]
    },
    {
      "cell_type": "code",
      "metadata": {
        "id": "-ERo22d2C-sP"
      },
      "source": [
        "def co_n_central_moment(indices, probs, weights, joint_probs):\n",
        "    # Compute the co-n central moment for the LFGPB distribution\n",
        "    # for elements at the given indices and joint_probabilities\n",
        "    # already calculated and provided\n",
        "    \n",
        "    n = indices.shape[0]\n",
        "    prob_collection = []\n",
        "    for succesful_events in powerset(indices):\n",
        "        failure_events = indices.copy()\n",
        "        for event in succesful_events:\n",
        "            failure_events = np.delete(failure_events, np.where(failure_events==event)[0][0])\n",
        "        sign = (-1)**(n-len(succesful_events))\n",
        "        prob = joint_probs[tuple(sorted(set(succesful_events)))] * probs[failure_events].prod()\n",
        "        prob_collection.append(sign * prob)\n",
        "    return np.array(prob_collection).sum() * weights[indices].prod()"
      ],
      "execution_count": null,
      "outputs": []
    },
    {
      "cell_type": "markdown",
      "metadata": {
        "id": "WvYpKw1q_F20"
      },
      "source": [
        "$\\mathrm{\\mu}_n = \\sum_{\\boldsymbol{s} \\in \\{0,1,\\ldots,M-1\\}^n} \\mathrm{Co}n(V_{s_1}, V_{s_2}, \\ldots, V_{s_n})$"
      ]
    },
    {
      "cell_type": "code",
      "metadata": {
        "id": "iZSmf2RnQHLB"
      },
      "source": [
        "def nth_central_moment(probs, weights, rho, n):\n",
        "    # Compute the nth central moment for the LFGPB distribution \n",
        "    # from its parameters\n",
        "    M = probs.shape[0]\n",
        "    joint_probs = joint_success_probs_upto_n(probs, rho, n)\n",
        "    co_moments = []\n",
        "    for indices in product(*(range(M) for _ in range(n))):\n",
        "      co_moment = co_n_central_moment(np.array(indices), probs, weights, joint_probs)\n",
        "      co_moments.append(co_moment)\n",
        "    return sum(co_moments)"
      ],
      "execution_count": null,
      "outputs": []
    },
    {
      "cell_type": "markdown",
      "metadata": {
        "id": "OfLNuz2h_TUq"
      },
      "source": [
        "$\\mathrm{\\mu}_n = \\boldsymbol{\\lambda} \\cdot \\bigcirc_{j=1}^{n} \\begin{bmatrix}0-\\mu \\\\ 1-\\mu \\\\ \\vdots \\\\N-1-\\mu \\end{bmatrix}$\n",
        "\n",
        "where $\\boldsymbol{\\lambda}$ is the LFGPB pmf_vector, $\\cdot$ is the dot product and $\\bigcirc$ is the iterated hadamard product"
      ]
    },
    {
      "cell_type": "code",
      "metadata": {
        "id": "lL_hcQ-JpRi-"
      },
      "source": [
        "def nth_central_moment_from_variable(v, n):\n",
        "    support_vec = np.arange(0, v.support_end+1)\n",
        "    centralised_support = support_vec - v.mean()\n",
        "    return (centralised_support**n * v.pmf_vec).sum()"
      ],
      "execution_count": null,
      "outputs": []
    },
    {
      "cell_type": "markdown",
      "metadata": {
        "id": "FQFYL56jAy2c"
      },
      "source": [
        "## Check implementation"
      ]
    },
    {
      "cell_type": "code",
      "metadata": {
        "colab": {
          "base_uri": "https://localhost:8080/"
        },
        "id": "-LsTv0aS50fC",
        "outputId": "c956975c-b983-4475-9a56-7d305dc2fbf3"
      },
      "source": [
        "nth_central_moment(np.array([0.1,0.2,0.3]),np.array([1,2,3]),0.5,3)"
      ],
      "execution_count": null,
      "outputs": [
        {
          "output_type": "execute_result",
          "data": {
            "text/plain": [
              "6.908993094821078"
            ]
          },
          "metadata": {},
          "execution_count": 16
        }
      ]
    },
    {
      "cell_type": "code",
      "metadata": {
        "colab": {
          "base_uri": "https://localhost:8080/"
        },
        "id": "v3hv2pQn56Ca",
        "outputId": "7621480a-94c4-41a9-c015-b1ed28ab080f"
      },
      "source": [
        "nth_central_moment_from_variable(LFGPB(np.array([0.1,0.2,0.3]),np.array([1,2,3]),rho=0.5),3)"
      ],
      "execution_count": null,
      "outputs": [
        {
          "output_type": "execute_result",
          "data": {
            "text/plain": [
              "6.908993094821172"
            ]
          },
          "metadata": {},
          "execution_count": 17
        }
      ]
    },
    {
      "cell_type": "markdown",
      "metadata": {
        "id": "4l8rmKKPE1Ae"
      },
      "source": [
        "## Do Testing"
      ]
    },
    {
      "cell_type": "code",
      "metadata": {
        "colab": {
          "base_uri": "https://localhost:8080/"
        },
        "id": "7-EgIN02rYXI",
        "outputId": "f4ad4421-001d-4f64-df69-aeda14a415c8"
      },
      "source": [
        "# Test the LFGPB for larger M using moments\n",
        "# As moments fall over a large range, relative error is used\n",
        "#\n",
        "# emn = expected nth  moment, i.e. those calculated from summing the elements\n",
        "# of the n-tensor of nth central mixed moments\n",
        "# amn = actual nth moment, i.e. those from the pyGPB implementation \n",
        "# Note that in both cases the 3rd and 4th moments are normalized to give \n",
        "# Skewness and Kurtosis, rather than raw central moments\n",
        "#\n",
        "# Coding style uses numbered variables, not arrays as indices starting \n",
        "# From 0 conflict with the \"n\"th moment, making things confusing\n",
        "\n",
        "for M in sorted(set(np.logspace(np.log10(4),3, num=40, dtype=np.int32))):\n",
        "    #collected relative errors\n",
        "    res1, res2, res3, res4 = [], [], [], []\n",
        "    re1_mean, re2_mean, re3_mean, re4_mean = 0,0,0,0\n",
        "    re1_std, re2_std, re3_std, re4_std = 0,0,0,0\n",
        "    for test_case in range(8):\n",
        "        em1, em2, em3, em4 = 0,0,0,0\n",
        "        am1, am2, am3, am4 = 0,0,0,0\n",
        "\n",
        "        # Generate random test case\n",
        "        probs = np.random.random(M)\n",
        "        weights = np.random.randint(1,20,M)\n",
        "        rho = float(np.random.random(1))\n",
        "\n",
        "        # Create pyGPB object\n",
        "        rv = LFGPB(probs, weights, rho=rho)\n",
        "\n",
        "        # Calculated Actual Moments\n",
        "        am1 = rv.mean()\n",
        "        am2 = rv.var()\n",
        "        am3 = nth_central_moment_from_variable(rv, 3) / (am2**3/2)\n",
        "        am4 = nth_central_moment_from_variable(rv, 4) / (am2**2)\n",
        "        \n",
        "        # Calculated Expected Moments. \n",
        "        em1 = (probs * weights).sum()\n",
        "        res1.append(abs((am1-em1)/em1))\n",
        "        \n",
        "        em2 = nth_central_moment(probs, weights, rho, 2)\n",
        "        res2.append(abs((am2-em2)/em2))\n",
        "\n",
        "        if M < 64:\n",
        "            em3 = nth_central_moment(probs, weights, rho, 3)  / (em2**3/2)     \n",
        "            res3.append(abs((am3-em3)/em3)) \n",
        "        if M < 32:\n",
        "            em4 = nth_central_moment(probs, weights, rho, 4) / (em2**2) \n",
        "            res4.append(abs((am4-em4)/em4))\n",
        "        \n",
        "    re1_mean, re1_std = np.array(res1).mean(), np.array(res1).std()\n",
        "    re2_mean, re2_std = np.array(res2).mean(), np.array(res2).std() \n",
        "    if res3:\n",
        "        re3_mean, re3_std = np.array(res3).mean(), np.array(res3).std()          \n",
        "    if res4:\n",
        "        re4_mean, re4_std = np.array(res4).mean(), np.array(res4).std() \n",
        "\n",
        "    print(M, re1_mean, re1_std, re2_mean, re2_std, re3_mean, re3_std, re4_mean, re4_std)"
      ],
      "execution_count": null,
      "outputs": [
        {
          "output_type": "stream",
          "text": [
            "4 4.917707343967928e-14 8.006480911503374e-14 3.3929707795058465e-13 2.577434999316973e-13 7.68974860781515e-13 1.150968051065316e-12 6.12708637248422e-13 1.064427620798864e-12\n",
            "5 4.051058012521881e-14 4.570252288987908e-14 3.7243709252456117e-13 3.25526207074465e-13 9.014733013108552e-13 1.0468383210607158e-12 4.451511933687277e-13 2.5140367765160023e-13\n",
            "6 8.390304912578772e-14 1.1354356981413378e-13 5.457124920634994e-13 4.2591210740024246e-13 6.173756931384289e-12 5.096767384253235e-12 4.0056259331820944e-13 3.0783707451010663e-13\n",
            "7 1.68105247838113e-14 1.8856621922696532e-14 1.198914111338268e-13 1.0836811272917676e-13 1.8679177747718947e-13 1.6319507887373695e-13 1.169289353701659e-13 1.547701045620174e-13\n",
            "8 1.6850996777867402e-14 1.8244814737234264e-14 1.856236529986009e-13 1.234423226222095e-13 1.0772557497059916e-12 2.0016024740389014e-12 3.630877674974676e-13 5.630139555368871e-13\n",
            "9 3.562430868927343e-14 7.189319787611688e-14 4.807906345063411e-13 7.805804209583728e-13 5.609530801178203e-12 8.482129596076102e-12 7.075346915459671e-13 6.988446542840054e-13\n",
            "10 7.51207283181014e-15 1.0881744852162007e-14 1.3274372344335027e-13 7.15763298814082e-14 5.796071187763753e-13 9.541675982490246e-13 1.8371926769778858e-13 1.6103525617289e-13\n",
            "12 1.4466954935877248e-13 3.652529296448951e-13 8.068452455564863e-13 1.8562517409395104e-12 2.859680541797992e-11 7.034287053541276e-11 6.615320444600422e-13 1.1756661968754545e-12\n",
            "14 3.727929947028887e-14 6.592868449339053e-14 1.0697090880055224e-12 1.9440588585900108e-12 2.3085817501118413e-11 4.317923341986933e-11 3.2980413419931788e-12 5.015789844879318e-12\n",
            "16 1.2370687105981321e-14 7.103305794971763e-15 7.176586397848526e-13 9.404142478293931e-13 1.1241927154682226e-11 1.3869919224874988e-11 1.0238122355135982e-10 2.634082460876648e-10\n",
            "18 9.171811414234425e-15 8.057648517754155e-15 2.8192366185200397e-13 2.551393669222607e-13 7.310295294377855e-11 1.790712887800453e-10 3.9211662327732813e-10 1.0350789538405644e-09\n",
            "21 7.500026516890201e-15 6.118222382161236e-15 1.0195532731492639e-13 6.25512925718687e-14 6.316006139962673e-13 6.345532275610738e-13 7.645857922916771e-12 1.9877205023857038e-11\n",
            "25 3.9247318143561915e-15 4.2822593187942305e-15 7.403309708372056e-14 1.6264257897666062e-14 9.346679200368793e-13 1.0682703451721239e-12 5.824657737839074e-10 1.5406554731561707e-09\n",
            "29 4.815773989555855e-14 9.842725523000822e-14 3.2642877647890106e-12 8.262147953164567e-12 6.8942493787209624e-06 1.8212494989713183e-05 1.7091516547474413e-07 4.3315402004698445e-07\n",
            "33 4.893267175032717e-14 1.2237191448770323e-13 4.657308708853201e-13 1.0334123891625695e-12 5.199199109302809e-11 1.3034273924719923e-10 0 0\n",
            "38 4.1730038651975945e-15 4.970811185691779e-15 2.1922451710127392e-13 4.181126082062505e-13 4.199059358791719e-12 5.851084114016875e-12 0 0\n",
            "44 1.132712174536038e-15 1.3153017782180646e-15 1.0674113170766051e-13 1.1800640990755494e-13 1.228766082434863e-06 2.860168229960688e-06 0 0\n",
            "51 1.2931997203684819e-15 1.7867177373410642e-15 2.4984667921327197e-09 6.610187064155186e-09 1.3595837776725478e-07 3.1638471873645e-07 0 0\n",
            "58 3.8735521274447466e-14 9.952050784078341e-14 4.716226240067913e-12 1.2002289609468346e-11 1.582022723815156e-08 2.7959158072058893e-08 0 0\n",
            "67 5.085694291841402e-14 1.1022880408556254e-13 1.819661954792369e-10 4.674494565462846e-10 0 0 0 0\n",
            "78 9.657781482152579e-15 2.3802132807654397e-14 3.7531691294452296e-12 9.894020677851978e-12 0 0 0 0\n",
            "90 7.188759269747431e-14 1.7588711390549189e-13 5.814385875653203e-09 1.5346928019135608e-08 0 0 0 0\n",
            "103 2.3128286900970236e-15 3.665149923605378e-15 1.1138095096563789e-11 2.8960640660949786e-11 0 0 0 0\n",
            "119 4.813518416573963e-15 7.73358404073995e-15 2.215561090352821e-09 5.805055862980322e-09 0 0 0 0\n",
            "137 3.034221820611709e-16 3.5562933725539947e-16 2.340599292826764e-14 4.590455871414074e-14 0 0 0 0\n",
            "158 1.065418434434286e-15 2.16386820865759e-15 2.3060955116342126e-10 5.807573959135611e-10 0 0 0 0\n",
            "182 2.041503060524231e-14 2.922919186303436e-14 1.8056993204425964e-08 4.7476862068138366e-08 0 0 0 0\n",
            "210 2.1102964364369143e-15 3.0442825454578377e-15 1.5780705272049987e-13 2.2332656103340199e-13 0 0 0 0\n",
            "242 3.802991401762583e-14 9.268827206490098e-14 1.1378920508854519e-09 2.9805394799282076e-09 0 0 0 0\n",
            "279 4.91288206510199e-14 1.224384206558197e-13 6.964496759848821e-11 7.750065444453392e-11 0 0 0 0\n",
            "322 3.245754066031734e-16 3.5152459576431984e-16 5.894197333088203e-11 9.828709321488274e-11 0 0 0 0\n",
            "371 2.0331651015948804e-14 3.062157839166651e-14 2.1548953332582026e-08 4.0846560145586826e-08 0 0 0 0\n",
            "427 3.567534775436223e-14 8.915011235948294e-14 4.2231654731795825e-09 7.345770049885454e-09 0 0 0 0\n",
            "492 8.382240601119011e-14 2.0797767099028092e-13 1.0658039477350296e-08 1.8382492376023882e-08 0 0 0 0\n",
            "567 5.5915292664396885e-14 8.845314865897494e-14 2.1092501154599073e-08 2.1571311528985243e-08 0 0 0 0\n",
            "653 4.3453452285212834e-14 9.115912219762872e-14 8.800959214326302e-09 1.1125897088940819e-08 0 0 0 0\n",
            "753 4.845461396113705e-16 7.584769185764985e-16 1.2478665894866425e-10 2.759372404122548e-10 0 0 0 0\n",
            "867 9.491259795198933e-14 1.7856274972016723e-13 8.23078530429927e-09 1.2915562697623764e-08 0 0 0 0\n",
            "1000 2.5856576299199774e-14 6.136914420011365e-14 5.338416466867215e-09 9.367740515998128e-09 0 0 0 0\n"
          ],
          "name": "stdout"
        }
      ]
    },
    {
      "cell_type": "code",
      "metadata": {
        "id": "CpWypCeqEvg7"
      },
      "source": [
        ""
      ],
      "execution_count": null,
      "outputs": []
    }
  ]
}